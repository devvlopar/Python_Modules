{
 "cells": [
  {
   "cell_type": "code",
   "execution_count": null,
   "id": "ec3bd710",
   "metadata": {},
   "outputs": [],
   "source": [
    "# List\n",
    "# Ordered, Indexed, Mutable, Allow duplicates\n",
    "ele = 1\n",
    "s = input(4,5,56,6,8) #\n",
    "\n",
    "# elements, items\n",
    "l1 = [12,12, 4.5, 'lion',True,[3,4],(3,4,5),{5,6,7},{'l':90}]\n",
    "str1 = 'opppo'\n",
    "for i in l1:\n",
    "    print(i)"
   ]
  },
  {
   "cell_type": "code",
   "execution_count": null,
   "id": "db054db9",
   "metadata": {},
   "outputs": [],
   "source": [
    "# Accessing the element\n",
    "list1 = [3,[3,4]]\n",
    "list1 = [5,6,['i','j','k'],87,8,9]\n",
    "list1[2][1]"
   ]
  },
  {
   "cell_type": "code",
   "execution_count": null,
   "id": "5da0079d",
   "metadata": {},
   "outputs": [],
   "source": [
    "[ 1, 2, 3\n",
    "  3, 4, 5\n",
    "  5, 6, 7 ]"
   ]
  },
  {
   "cell_type": "code",
   "execution_count": null,
   "id": "4a5e8b9e",
   "metadata": {},
   "outputs": [],
   "source": [
    "# list - Ordered, Indexed, Mutable, Allow duplicates\n",
    "# tuple - Ordered, Indexed, Immutable, Allow duplicates\n",
    "# set - Unordered, Mutable, Doesn't Allow duplicates\n",
    "\n",
    "list1 = [2,34,4.5,3.4]\n",
    "# list1.append('wholeelement')\n",
    "# list1.extend('wholeelement')\n",
    "# list1.insert(index,element)\n",
    "# list1.pop(1) by index we can remove\n",
    "# list1.remove('Aa') by element we can remove\n",
    "# list1.reverse() # reverses the order of the list\n",
    "list1.sort(reverse=True) #alphanumerically\n",
    "list1"
   ]
  },
  {
   "cell_type": "code",
   "execution_count": null,
   "id": "33efe0c4",
   "metadata": {},
   "outputs": [],
   "source": [
    "t1 = (3,4,4,4,4,54,55)\n",
    "# if there is only one ele in tuple\n",
    "# we must put comma , at the end\n"
   ]
  },
  {
   "cell_type": "code",
   "execution_count": null,
   "id": "5c24201a",
   "metadata": {},
   "outputs": [],
   "source": [
    "# tuple packing\n",
    "# tuple unpacking\n",
    "\n",
    "t1 = (4,5,4,4,4,34,34,4,56,56,67)\n",
    "# t1.count(4)\n",
    "t1.index(4,5,9) # it will find index"
   ]
  },
  {
   "cell_type": "code",
   "execution_count": null,
   "id": "6efe1cac",
   "metadata": {},
   "outputs": [],
   "source": [
    "# set- \n",
    "# Unordered, doesn't allow duplicates, mutable\n",
    "# only immutable values can be exist in set\n",
    "set1 = {2,5.6,True,'lion',(9,4.5)}\n"
   ]
  },
  {
   "cell_type": "code",
   "execution_count": null,
   "id": "e4f141c1",
   "metadata": {},
   "outputs": [],
   "source": [
    "set1 = {6,7,8}\n",
    "# set1.add((5,6,45)) #adds as a single element\n",
    "set1.update('kite') #adds as a individual single elements\n",
    "#it needs an iterable\n",
    "print(set1)"
   ]
  },
  {
   "cell_type": "code",
   "execution_count": null,
   "id": "594b292f",
   "metadata": {},
   "outputs": [],
   "source": [
    "set1 = {6,7,8}\n",
    "set1.clear() #removes all the elements\n",
    "print(set1)"
   ]
  },
  {
   "cell_type": "code",
   "execution_count": null,
   "id": "19723762",
   "metadata": {},
   "outputs": [],
   "source": [
    "set1 = {6,7,8}\n",
    "set1.copy() #copies the set"
   ]
  },
  {
   "cell_type": "code",
   "execution_count": null,
   "id": "de58d6ff",
   "metadata": {},
   "outputs": [],
   "source": [
    "A = {6,7,8}\n",
    "B = {5,7,5,6}\n",
    "\n",
    "A.difference(B) #A difference of B,(A - B)\n",
    "# substraction\n",
    "# print(A)\n",
    "\n",
    "A.difference_update(B) #Inline change\n",
    "print(A)"
   ]
  },
  {
   "cell_type": "code",
   "execution_count": null,
   "id": "2a95df31",
   "metadata": {},
   "outputs": [],
   "source": [
    "A = {6,7,8}\n",
    "B = {55,6}\n",
    "# A.discard(7) #removes the element, doesnt raise an error\n",
    "# A.remove(7) #removes the element, it will raise an error\n",
    "print(A)"
   ]
  },
  {
   "cell_type": "code",
   "execution_count": null,
   "id": "1dee1b9f",
   "metadata": {},
   "outputs": [],
   "source": [
    "A = {45,(6.7,),'a',89}\n",
    "B = {55,6}\n",
    "A.pop() #we do not know which element will be removed\n",
    "print(A)"
   ]
  },
  {
   "cell_type": "code",
   "execution_count": null,
   "id": "009ca0ba",
   "metadata": {},
   "outputs": [],
   "source": [
    "B = {55,7,6}\n",
    "A = {6,7,8}\n",
    "# A.intersection(B)\n",
    "A.intersection_update(B)\n",
    "print(A)"
   ]
  },
  {
   "cell_type": "code",
   "execution_count": null,
   "id": "ef970aae",
   "metadata": {},
   "outputs": [],
   "source": [
    "A = {6,'l',5.6,True}\n",
    "B = {6,5.6}\n",
    "# A.isdisjoint(B) #checks whether all(in both sides) the value are not common\n",
    "# B.issubset(A)\n",
    "B.issuperset(A)"
   ]
  },
  {
   "cell_type": "code",
   "execution_count": null,
   "id": "ff390312",
   "metadata": {},
   "outputs": [],
   "source": [
    "A = {66,7.7}\n",
    "B = {9,0,66,77}\n",
    "# A.union(B) # returns all the elements from both sides\n",
    "# A.symmetric_difference(B)\n",
    "A.symmetric_difference_update(B)\n",
    "print(A)"
   ]
  },
  {
   "cell_type": "code",
   "execution_count": null,
   "id": "c47b0ffe",
   "metadata": {},
   "outputs": [],
   "source": [
    "# a = 0\n",
    "# 0, empty collection : False\n",
    "set1 = [{}]\n",
    "# len(set1)\n",
    "if set1:\n",
    "    print('ifblock')\n",
    "else:\n",
    "    print('elseblock')"
   ]
  },
  {
   "cell_type": "code",
   "execution_count": null,
   "id": "4c8f90e0",
   "metadata": {},
   "outputs": [],
   "source": [
    "# Dictionary - Ordered, Doesn't allow duplicate(keys), Mutable\n",
    "# keys will be unique\n",
    "# items, elements = key and value pair\n",
    "# as a key we can take immutable datatypes\n",
    "# as a value you can take any datatypes\n",
    "\n",
    "dict1 = {'a':34, 'b':20}\n",
    "\n",
    "for i in dict1: #(only keys)\n",
    "    print(i)\n",
    "    \n"
   ]
  },
  {
   "cell_type": "code",
   "execution_count": null,
   "id": "10e74220",
   "metadata": {},
   "outputs": [],
   "source": [
    "#To access\n",
    "dict1 = {'A':20, 'b':20, 'a':90} #value will be updated\n",
    "# dict1['a']\n",
    "print(len(dict1))"
   ]
  },
  {
   "cell_type": "code",
   "execution_count": null,
   "id": "e14152ba",
   "metadata": {},
   "outputs": [],
   "source": [
    "d1 = {0:290, 2.3:2.0, 'string':'20', False:False, (4,5):[45,56], 'r':(5,6,7), 'o':{4,5,6}, 'ss':{'s':45}}\n",
    "print(d1)"
   ]
  },
  {
   "cell_type": "code",
   "execution_count": null,
   "id": "09469705",
   "metadata": {},
   "outputs": [],
   "source": [
    "dict1 = {'k':'value'}\n",
    "dict1['ki']"
   ]
  },
  {
   "cell_type": "code",
   "execution_count": null,
   "id": "a563cfff",
   "metadata": {},
   "outputs": [],
   "source": [
    "dict2 = {'g':89, 'k':90, 'i':23}\n",
    "del dict2['k']\n",
    "dict2"
   ]
  },
  {
   "cell_type": "code",
   "execution_count": null,
   "id": "860d3bb6",
   "metadata": {},
   "outputs": [],
   "source": [
    "dict2 = {'g':89, 'k':90, 'i':23}\n",
    "dict2.clear() #removes all the elements\n",
    "print(dict2)"
   ]
  },
  {
   "cell_type": "code",
   "execution_count": null,
   "id": "e2eec6e1",
   "metadata": {},
   "outputs": [],
   "source": [
    "dict2 = {'g':89, 'k':90, 'i':23}\n",
    "dict2.copy() #copies the whole dictionary\n",
    "dict2.get('g') #gets the value of given key\n"
   ]
  },
  {
   "cell_type": "code",
   "execution_count": null,
   "id": "a4dfb6e1",
   "metadata": {},
   "outputs": [],
   "source": [
    "l = list(dict2.items()) # it will return key value pair as a tuple in list\n",
    "print(l)\n",
    "# for i in dict2.items():\n",
    "#     print(i)"
   ]
  },
  {
   "cell_type": "code",
   "execution_count": null,
   "id": "552a3971",
   "metadata": {},
   "outputs": [],
   "source": [
    "dict2 = {'g':89, 'k':90, 'i':23}\n",
    "keys = list(dict2.keys()) #it will return all the keys in list\n",
    "values = list(dict2.values()) #it will return all the values in list"
   ]
  },
  {
   "cell_type": "code",
   "execution_count": null,
   "id": "447428db",
   "metadata": {},
   "outputs": [],
   "source": [
    "for single_key in dict2.keys():\n",
    "    print(dict2[single_key])"
   ]
  },
  {
   "cell_type": "code",
   "execution_count": null,
   "id": "cc6fd84c",
   "metadata": {},
   "outputs": [],
   "source": [
    "dict2 = {'g':89, 'k':90, 'i':23}\n",
    "dict2.pop('k') #removes the item and returns the value\n",
    "dict2"
   ]
  },
  {
   "cell_type": "code",
   "execution_count": null,
   "id": "febbbf15",
   "metadata": {},
   "outputs": [],
   "source": [
    "dict2 = {'g':89, 'k':90, 'i':23}\n",
    "dict2.popitem() #removes the last item and returns that item in tuple\n",
    "dict2"
   ]
  },
  {
   "cell_type": "code",
   "execution_count": null,
   "id": "1b56ccf1",
   "metadata": {},
   "outputs": [],
   "source": [
    "Immutable : int, float, str, bool, tuple\n",
    "Mutable : list, set, dict"
   ]
  },
  {
   "cell_type": "code",
   "execution_count": null,
   "id": "be5c4240",
   "metadata": {},
   "outputs": [],
   "source": [
    "dict2 = {'g':89, 'k':90, 'i':23}\n",
    "#Syntax: setdefalut(key,value)\n",
    "# if value is not given then it will take None\n",
    "dict2.setdefault('fig',89)\n",
    "dict2 #updates the original dictionary"
   ]
  },
  {
   "cell_type": "code",
   "execution_count": null,
   "id": "99259a5a",
   "metadata": {},
   "outputs": [],
   "source": [
    "dict2 = {'g':89, 'k':90, 'i':23}\n",
    "#Syntax: setdefalut(iterable(keys),value)\n",
    "# if the value is not given then it will take None\n",
    "\n",
    "dict2.fromkeys([3,4,4],[3,4]) #returns the dictionary"
   ]
  },
  {
   "cell_type": "code",
   "execution_count": null,
   "id": "754134b5",
   "metadata": {},
   "outputs": [],
   "source": [
    "s1 = {34 : [4,False,6,{4,'geller',6,7,(5,7),565,(6.7,8,9,90)},[({4,('5',),6},\n",
    "{3:45,'lopez':('python',67,'jojo'),7.8:7.8, 7.8:56})]], 'ace':78}\n",
    "# len(s1)\n",
    "for values in s1.values():\n",
    "    print(values)\n",
    "            "
   ]
  },
  {
   "cell_type": "code",
   "execution_count": null,
   "id": "9dc1dc6a",
   "metadata": {},
   "outputs": [],
   "source": [
    "x = '90'\n",
    "if type(x) == str:\n",
    "    print(x)"
   ]
  },
  {
   "cell_type": "code",
   "execution_count": null,
   "id": "807e19bb",
   "metadata": {},
   "outputs": [],
   "source": [
    "list1 = [3.4, 3.4, {45:78}, 345, 'king', (5,5,6,7)]\n",
    "# print(type(list1.append(45)))\n",
    "pop # index\n",
    "list1.sort(reverse=True)\n",
    "list1.reverse()\n",
    "tuple()\n",
    "print()"
   ]
  },
  {
   "cell_type": "code",
   "execution_count": null,
   "id": "717db727",
   "metadata": {},
   "outputs": [],
   "source": [
    "set1 = {'key':'value', 'key':'value', \"key\":\"value\", \"key\":\"value\"}\n",
    "\n",
    "print(set1)"
   ]
  },
  {
   "cell_type": "code",
   "execution_count": null,
   "id": "68c73765",
   "metadata": {},
   "outputs": [],
   "source": [
    "set1 = {2,'fig',True,(34,56,False,1),(56,34,1,False),0,(1,False,56,34),False}\n",
    "\n",
    "set1.intersection_update((34,56,False,1))\n",
    "print(set1)"
   ]
  },
  {
   "cell_type": "code",
   "execution_count": null,
   "id": "652a41da",
   "metadata": {},
   "outputs": [],
   "source": [
    "# Function\n",
    "# a block of code executes(run) whenever I want, how many times I want\n",
    "\n",
    "# Types\n",
    "# 1. Built-In\n",
    "# 2. User defined\n",
    "# 3. Anonymous "
   ]
  },
  {
   "cell_type": "code",
   "execution_count": null,
   "id": "e4e2c6a9",
   "metadata": {},
   "outputs": [],
   "source": [
    "# Syntax:\n",
    "def function_name(parameters):\n",
    "    code\n",
    "function_name(arguments)"
   ]
  },
  {
   "cell_type": "code",
   "execution_count": null,
   "id": "75fdc0d9",
   "metadata": {},
   "outputs": [],
   "source": [
    "# train : tumhara kaam kya hai\n",
    "# bulana : activate/call\n",
    "# waapis karna : return"
   ]
  },
  {
   "cell_type": "code",
   "execution_count": null,
   "id": "266d0776",
   "metadata": {},
   "outputs": [],
   "source": [
    "#Defining a function/training\n",
    "def Rocky():\n",
    "    kaam \n",
    "    return result\n",
    "    \n",
    "Rocky() #calling a function"
   ]
  },
  {
   "cell_type": "code",
   "execution_count": null,
   "id": "7f771f33",
   "metadata": {},
   "outputs": [],
   "source": [
    "def summit(a,b): #parameter/ variables\n",
    "    c = a + b\n",
    "    return c\n",
    "\n",
    "summit(4,5) #arguments/ values\n",
    "\n",
    "# arguments : calling \n",
    "# parameters : defining\n",
    "summit(45,67)\n",
    "var1 = summit(0.78,78)\n",
    "print(var1)"
   ]
  },
  {
   "cell_type": "code",
   "execution_count": null,
   "id": "7b254f21",
   "metadata": {},
   "outputs": [],
   "source": [
    "def mindy(value1):\n",
    "    sum1 = value1\n",
    "    return sum1\n",
    "    \n",
    "    \n",
    "mindy(34)\n",
    "# print(sum1) #put on hold"
   ]
  },
  {
   "cell_type": "code",
   "execution_count": 5,
   "id": "6905c481",
   "metadata": {},
   "outputs": [
    {
     "data": {
      "text/plain": [
       "51"
      ]
     },
     "execution_count": 5,
     "metadata": {},
     "output_type": "execute_result"
    }
   ],
   "source": [
    "def f1(a,b,c):\n",
    "    return 45 + 6\n",
    "f1(a= 89, c=90, b=34)"
   ]
  },
  {
   "cell_type": "code",
   "execution_count": null,
   "id": "6c7c792e",
   "metadata": {},
   "outputs": [],
   "source": [
    "def addition(a,b):\n",
    "    c = a + b\n",
    "    return None\n",
    "\n",
    "print(addition(4,5))"
   ]
  },
  {
   "cell_type": "code",
   "execution_count": null,
   "id": "d8ed8771",
   "metadata": {},
   "outputs": [],
   "source": [
    "# kuch nahi\n",
    "type(None)"
   ]
  },
  {
   "cell_type": "code",
   "execution_count": null,
   "id": "8037f051",
   "metadata": {},
   "outputs": [],
   "source": [
    "interger type: 23,45,0,-89,1,2\n",
    "float type : 5.6, 44.5, 1.0009, -34.6\n",
    "str type : \n",
    "bool : True False\n",
    "    NoneType : None\n"
   ]
  },
  {
   "cell_type": "code",
   "execution_count": null,
   "id": "cc583927",
   "metadata": {},
   "outputs": [],
   "source": [
    "list1 = [5,6,7,7,None]\n",
    "len(list1)"
   ]
  },
  {
   "cell_type": "code",
   "execution_count": null,
   "id": "544c3233",
   "metadata": {},
   "outputs": [],
   "source": [
    "list1 = [5,6,7,7,None]\n",
    "for i in list1:\n",
    "    if 7 == i:\n",
    "        print('None is present')"
   ]
  },
  {
   "cell_type": "code",
   "execution_count": null,
   "id": "b47a5b9c",
   "metadata": {},
   "outputs": [],
   "source": [
    "variable_name = value"
   ]
  },
  {
   "cell_type": "code",
   "execution_count": null,
   "id": "8bba7885",
   "metadata": {},
   "outputs": [],
   "source": [
    "[], 0, None : falsy\n",
    "if p:\n",
    "    print('true hai yeh')\n",
    "else:\n",
    "    print('falsy hai yeh')"
   ]
  },
  {
   "cell_type": "code",
   "execution_count": null,
   "id": "290d4462",
   "metadata": {},
   "outputs": [],
   "source": [
    "False == False"
   ]
  },
  {
   "cell_type": "code",
   "execution_count": null,
   "id": "79ba7e10",
   "metadata": {},
   "outputs": [],
   "source": [
    " print([5,6,7].append(67))"
   ]
  },
  {
   "cell_type": "code",
   "execution_count": null,
   "id": "bbb41ad4",
   "metadata": {},
   "outputs": [],
   "source": [
    "int()\n",
    "str()\n",
    "float()\n",
    "list()\n",
    "tuple()\n",
    "set()\n",
    "dict()\n",
    "print()\n",
    "type()\n",
    "len()\n",
    "id()"
   ]
  },
  {
   "cell_type": "code",
   "execution_count": null,
   "id": "58bef775",
   "metadata": {},
   "outputs": [],
   "source": [
    "list1 = [23,4.5,44.5,56,67,78,89,890,890,8,-90,'lion',[5,6,76],89]\n",
    "# filter(function, iterable)\n",
    "def f1(x):\n",
    "    if type(x) == int:\n",
    "        return x\n",
    "for i in filter(f1,list1):\n",
    "    print(i)"
   ]
  },
  {
   "cell_type": "code",
   "execution_count": null,
   "id": "fb5a7e80",
   "metadata": {},
   "outputs": [],
   "source": [
    "# map(function, iterable)\n",
    "list1 = [2,3.4,'lion',(5,6)]\n",
    "def f1(x):\n",
    "    return x*2\n",
    "list(map(str,list1))"
   ]
  },
  {
   "cell_type": "code",
   "execution_count": null,
   "id": "62b91e55",
   "metadata": {},
   "outputs": [],
   "source": [
    "a = input()\n",
    "a = a[1:-1]\n",
    "l1 = a.split(',')\n",
    "l2 = list(map(int,l1))\n",
    "l2 = list(map(int, ( (input()[1:-1]).split(',') ) ))"
   ]
  },
  {
   "cell_type": "code",
   "execution_count": null,
   "id": "ae204100",
   "metadata": {},
   "outputs": [],
   "source": [
    "for (idx, ele) in enumerate([4,5,5,6,7],2):\n",
    "    print(ele)"
   ]
  },
  {
   "cell_type": "code",
   "execution_count": null,
   "id": "53f74142",
   "metadata": {},
   "outputs": [],
   "source": [
    "#3. Anonymous Function(lambda function):\n",
    "# where a function is expected\n",
    "# who has no name\n",
    "# lambda keyword\n",
    "# MULTIPLE PARAMETERS BUT SINGLE EXPRESSION(returns something)\n",
    "#Syntax:\n",
    "# lambda parameters: expression"
   ]
  },
  {
   "cell_type": "code",
   "execution_count": null,
   "id": "0a4102be",
   "metadata": {},
   "outputs": [],
   "source": [
    "list1 = [1.0,2,'3','4',5,'6,7',8,9,'10,23',4.5,-9.9,67,34,67]\n",
    "list(filter(lambda x : (type(x) == str) or (type(x) == int) ,list1))"
   ]
  },
  {
   "cell_type": "code",
   "execution_count": null,
   "id": "6e8e70b7",
   "metadata": {},
   "outputs": [],
   "source": [
    "#Recursion\n",
    "list1 = [1.0,2,'3','4',5,'6,7',8,9,'10,23',4.5,-9.9,67,34,67]\n",
    "for i in list1:\n",
    "    print('list1')\n",
    "    fg\n",
    "    dfg\n",
    "    dfg"
   ]
  },
  {
   "cell_type": "code",
   "execution_count": null,
   "id": "4c5532b9",
   "metadata": {},
   "outputs": [],
   "source": [
    "# If you do not understand this line's meaning read it again."
   ]
  },
  {
   "cell_type": "code",
   "execution_count": null,
   "id": "f4cc4fcd",
   "metadata": {},
   "outputs": [],
   "source": [
    "def f1(a,b):\n",
    "    c = a + b\n",
    "    f1(c,c-1)\n",
    "    return c\n",
    "    \n",
    "f1(3,4) #first time (7)"
   ]
  },
  {
   "cell_type": "code",
   "execution_count": null,
   "id": "9974ed70",
   "metadata": {},
   "outputs": [],
   "source": [
    "def fact1(num):\n",
    "    if num > 1:\n",
    "        return num * fact1(num-1)\n",
    "    else:\n",
    "        return num\n",
    "fact1(5)"
   ]
  },
  {
   "cell_type": "code",
   "execution_count": null,
   "id": "9287b6d4",
   "metadata": {},
   "outputs": [],
   "source": [
    "1: return 5 * (4 * [3 * {2 * fact1(1)}])____ #num = 5\n",
    "2: return                 #num = 4"
   ]
  },
  {
   "cell_type": "code",
   "execution_count": null,
   "id": "aec43b0e",
   "metadata": {},
   "outputs": [],
   "source": [
    "#Types of arguments\n",
    "1. Positional Argument\n",
    "2. Keyword Argument\n",
    "3. Arbitrary Argument\n",
    "4. Arbitrary Keyword Argument\n",
    "5. Default Parameter value"
   ]
  },
  {
   "cell_type": "code",
   "execution_count": null,
   "id": "6bd105e2",
   "metadata": {},
   "outputs": [],
   "source": [
    "# 1. Positional Argument\n",
    "def f1(a,b):\n",
    "    return b - a\n",
    "    \n",
    "f1(4,5)"
   ]
  },
  {
   "cell_type": "code",
   "execution_count": null,
   "id": "aeef7885",
   "metadata": {},
   "outputs": [],
   "source": [
    "# 5. Default Parameter value\n",
    "def f1(a,b=1): #default para value will be used in absence of an argument,\n",
    "#                 else it will consider given argument\n",
    "    return b - a\n",
    "f1(4,14)"
   ]
  },
  {
   "cell_type": "code",
   "execution_count": null,
   "id": "3010219a",
   "metadata": {},
   "outputs": [],
   "source": [
    "# 2. Keyword Argument\n",
    "def f1(a,b):\n",
    "    return b - a\n",
    "    \n",
    "f1(b=4,a=5) #keyword argument"
   ]
  },
  {
   "cell_type": "code",
   "execution_count": null,
   "id": "f6c81634",
   "metadata": {},
   "outputs": [],
   "source": [
    "# 3. Arbitrary Argument / *args\n",
    "\n",
    "def f1(b,c=90,*args): #it takes rest of the positional arguments as a tuple\n",
    "    return c\n",
    "\n",
    "f1(43,45,56,7, 'king')\n"
   ]
  },
  {
   "cell_type": "code",
   "execution_count": null,
   "id": "3a371eac",
   "metadata": {},
   "outputs": [],
   "source": [
    "# arbitrary keyword arg\n",
    "# it takes rest of the keyword args in a dict\n",
    "# prefix with **\n",
    "# **kwargs\n",
    "def f1(*a,**v):\n",
    "    return v\n",
    "f1(4,5,7,6,5,6, m= 90, k = 89, l=89)"
   ]
  },
  {
   "cell_type": "code",
   "execution_count": null,
   "id": "0de562e7",
   "metadata": {},
   "outputs": [],
   "source": [
    "def f1(a,*b,d= 90,**r):\n",
    "    return r\n",
    "f1(12,'lion',(5,6,7),{5:7},45,r=900, t=90, d=780,e=45, y=7)"
   ]
  },
  {
   "cell_type": "code",
   "execution_count": null,
   "id": "8ead8912",
   "metadata": {},
   "outputs": [],
   "source": [
    "# Namespace"
   ]
  },
  {
   "cell_type": "code",
   "execution_count": null,
   "id": "89e727cb",
   "metadata": {},
   "outputs": [],
   "source": [
    "var1 = 'global' #globally defined\n",
    "def fun1(a):\n",
    "    global v\n",
    "    v = 90 \n",
    "    b = 'surat' #b will defined locally.\n",
    "#     print(b)\n",
    "    print(var1) #locally accessed\n",
    "\n",
    "fun1(3)\n",
    "print(v)\n",
    "# b = 'maharashtra' #globally defined\n",
    "# print(b)"
   ]
  },
  {
   "cell_type": "code",
   "execution_count": null,
   "id": "112384ad",
   "metadata": {},
   "outputs": [],
   "source": [
    "def f1():\n",
    "    var1 = 'f1 ka local'\n",
    "    \n",
    "    def f2():\n",
    "        nonlocal var2\n",
    "        var2 = 'local'\n",
    "        print(var2)\n",
    "    f2()\n",
    "    print(var2)\n",
    "f1()\n",
    "dsf\n",
    "\n",
    "\n",
    "sad\n",
    "s\n",
    "\n",
    "\n",
    "df\n",
    "d\n",
    "f\n",
    "\n",
    "\n",
    "ghjg\n",
    "\n",
    "\n",
    "\n",
    "y\n",
    "u\n",
    "ygu"
   ]
  },
  {
   "cell_type": "code",
   "execution_count": null,
   "id": "34935078",
   "metadata": {},
   "outputs": [],
   "source": [
    "var2 = 'global'\n",
    "def f1():\n",
    "    global var1\n",
    "    var1 = 'local'\n",
    "    \n",
    "f1()\n",
    "print(var1)"
   ]
  },
  {
   "cell_type": "code",
   "execution_count": 30,
   "id": "8778dec7",
   "metadata": {},
   "outputs": [
    {
     "data": {
      "text/plain": [
       "True"
      ]
     },
     "execution_count": 30,
     "metadata": {},
     "output_type": "execute_result"
    }
   ],
   "source": [
    "# print(23,34,4,5,545645,56)\n",
    "# for (idx, ele) in enumerate('qwerty'):\n",
    "#     print(ele)\n",
    "# type()\n",
    "# len('point')\n",
    "# id(3)\n",
    "# input()\n",
    "# range()\n",
    "# list(filter(lambda x: x.isupper(),['a', \"A\", 'f', 'E', 'O', 'd'] ))\n",
    "# list(map(int, [2,3,4,5.34,34,45]))\n",
    "# sorted((34,23,90,-12,34,0))\n",
    "# 97 - 122\n",
    "# 65 - 90\n",
    "# ord('Z')\n",
    "# chr(45)\n",
    "# min([45,90,0,-90])\n",
    "# max([45,90,0,-90])\n",
    "# round(34.51)\n",
    "# sum((34,54,234,3423,423,4))\n",
    "# str1 = 'ASWD'\n",
    "# eval('str1.isupper()')\n",
    "# eval('3+5')"
   ]
  },
  {
   "cell_type": "code",
   "execution_count": null,
   "id": "7995ad4e",
   "metadata": {},
   "outputs": [],
   "source": [
    "a = 90\n",
    "# garbage collector\n",
    "# malloc()\n",
    "# calloc()\n",
    "id(a)"
   ]
  },
  {
   "cell_type": "code",
   "execution_count": null,
   "id": "c1135be9",
   "metadata": {},
   "outputs": [],
   "source": [
    "# class A:\n",
    "    def addition(*a):\n",
    "        return sum(a)\n",
    "addition()\n",
    "addition(6,7,9,0,8,9,5,67,78,8,9,0,435)"
   ]
  },
  {
   "cell_type": "code",
   "execution_count": null,
   "id": "888a8841",
   "metadata": {},
   "outputs": [],
   "source": [
    "1.9 + \"5\" #maths\n",
    "# 'gi' + 'gi' #concatenation\n",
    "# [4,5] + [3,4]\n",
    "# (4,5) + (2,3)\n",
    "# {2,3,4} + {9,7,8}"
   ]
  },
  {
   "cell_type": "code",
   "execution_count": null,
   "id": "bc287038",
   "metadata": {},
   "outputs": [],
   "source": [
    "\n",
    "# list1 = (6.78,4,5,90)\n",
    "list1 = 'False'\n",
    "id('False'), id(list1)"
   ]
  },
  {
   "cell_type": "code",
   "execution_count": null,
   "id": "9bfa55e8",
   "metadata": {},
   "outputs": [],
   "source": [
    "# a = 0 \n",
    "# ++'kite'\n",
    "# print(a)\n",
    "list1"
   ]
  },
  {
   "cell_type": "code",
   "execution_count": null,
   "id": "168e3cd8",
   "metadata": {},
   "outputs": [],
   "source": [
    "id(a), id(90)"
   ]
  },
  {
   "cell_type": "code",
   "execution_count": null,
   "id": "da7a9277",
   "metadata": {},
   "outputs": [],
   "source": [
    "i = 90\n",
    "Tyson = 90\n",
    "\n",
    "def Tyson():\n",
    "    pass\n",
    "Tyson =88\n",
    "print(Tyson)"
   ]
  },
  {
   "cell_type": "code",
   "execution_count": null,
   "id": "f96381ee",
   "metadata": {},
   "outputs": [],
   "source": [
    "# Modules & Packages & libraires & framework \n",
    "# Module : simple python file(.py) containing definations and statements\n",
    "# Packages(dotted module) : collections modules and/or packages , __init__.py must be in it.\n",
    "\n",
    "\n",
    "# __name__ : special varible of module\n",
    "# by accessing directly it will have '__main__'\n",
    "# by importing it will have module_name\n",
    "\n",
    "import module_very_very_very_long_name as m\n",
    "from package.module import var, funct  \n",
    "from module import *\n"
   ]
  },
  {
   "cell_type": "code",
   "execution_count": null,
   "id": "9eef891b",
   "metadata": {},
   "outputs": [],
   "source": [
    "print(24)"
   ]
  },
  {
   "cell_type": "code",
   "execution_count": null,
   "id": "69529258",
   "metadata": {},
   "outputs": [],
   "source": [
    "# magic methods, dunder methods"
   ]
  },
  {
   "cell_type": "code",
   "execution_count": null,
   "id": "4d761bbf",
   "metadata": {},
   "outputs": [],
   "source": [
    "7 + 8"
   ]
  },
  {
   "cell_type": "code",
   "execution_count": null,
   "id": "b920ed79",
   "metadata": {},
   "outputs": [],
   "source": [
    "map = 90\n",
    "print(map)"
   ]
  }
 ],
 "metadata": {
  "kernelspec": {
   "display_name": "Python 3 (ipykernel)",
   "language": "python",
   "name": "python3"
  },
  "language_info": {
   "codemirror_mode": {
    "name": "ipython",
    "version": 3
   },
   "file_extension": ".py",
   "mimetype": "text/x-python",
   "name": "python",
   "nbconvert_exporter": "python",
   "pygments_lexer": "ipython3",
   "version": "3.9.7"
  }
 },
 "nbformat": 4,
 "nbformat_minor": 5
}
