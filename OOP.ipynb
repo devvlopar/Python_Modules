{
 "cells": [
  {
   "cell_type": "code",
   "execution_count": null,
   "id": "a9937f60",
   "metadata": {},
   "outputs": [],
   "source": [
    "# OOP 5 pillers, principles\n",
    "# 1. Class and Object\n",
    "# 2. Inheritence\n",
    "# 3. Polymorphism\n",
    "# 4. Encapsulation\n",
    "# 5. Abstraction"
   ]
  },
  {
   "cell_type": "code",
   "execution_count": null,
   "id": "416bd21e",
   "metadata": {},
   "outputs": [],
   "source": [
    "# 1. Class and Object"
   ]
  },
  {
   "cell_type": "code",
   "execution_count": null,
   "id": "16422e7c",
   "metadata": {},
   "outputs": [],
   "source": [
    "#Syntax:\n",
    "# class ClassName:\n",
    "#     boc\n",
    "\n",
    "#object construct\n",
    "# obj1 = ClassName()"
   ]
  },
  {
   "cell_type": "code",
   "execution_count": 8,
   "id": "55fcdaab",
   "metadata": {},
   "outputs": [
    {
     "name": "stdout",
     "output_type": "stream",
     "text": [
      "yes object created\n"
     ]
    },
    {
     "data": {
      "text/plain": [
       "<__main__.Human at 0x1b25b141130>"
      ]
     },
     "execution_count": 8,
     "metadata": {},
     "output_type": "execute_result"
    }
   ],
   "source": [
    "class Human:\n",
    "    #constructor #init method is called whenever object is created\n",
    "    def __init__(a):\n",
    "        print('yes object created')\n",
    "Human()"
   ]
  },
  {
   "cell_type": "code",
   "execution_count": null,
   "id": "e7b87d2f",
   "metadata": {},
   "outputs": [],
   "source": [
    "class Human:\n",
    "    pass\n",
    "\n",
    "obj1 = Human()\n",
    "obj2 = Human()\n",
    "obj3 = Human()\n",
    "obj4 = Human()\n",
    "\n",
    "type(obj1)"
   ]
  },
  {
   "cell_type": "code",
   "execution_count": null,
   "id": "ff5a6a46",
   "metadata": {},
   "outputs": [],
   "source": [
    "Attributes/ Variable\n",
    "behaviour/ Method"
   ]
  },
  {
   "cell_type": "code",
   "execution_count": null,
   "id": "4525e1e0",
   "metadata": {},
   "outputs": [],
   "source": [
    "#Types Attributes\n",
    "1. Class Variable / Static Variable\n",
    "# throughout class same/static\n",
    "# bound to the class\n",
    "\n",
    "2. Instance Variable\n",
    "# differs object to object\n",
    "# bound to the object\n"
   ]
  },
  {
   "cell_type": "code",
   "execution_count": null,
   "id": "5cd26e64",
   "metadata": {},
   "outputs": [],
   "source": [
    "#Types of methods\n",
    "1. Instance Method\n",
    "2. Class Method\n",
    "3. Static Method"
   ]
  },
  {
   "cell_type": "code",
   "execution_count": null,
   "id": "4cb750f5",
   "metadata": {},
   "outputs": [],
   "source": [
    "class Students:\n",
    "    #Class/Static Variable\n",
    "    school_name = 'Gajera'\n",
    "    \n",
    "    #constructor\n",
    "    def __init__(self):\n",
    "        print('ha call hui')\n",
    "    \n",
    "s1 = Students()"
   ]
  },
  {
   "cell_type": "code",
   "execution_count": null,
   "id": "72f721c6",
   "metadata": {},
   "outputs": [],
   "source": [
    "class A:\n",
    "    #Attributes\n",
    "    school_name = 'Gajera'\n",
    "    \n",
    "    def __init__(self, age, height):\n",
    "        #Instance Variable\n",
    "        self.age = age\n",
    "        self.height = height        \n",
    "    #behaviours\n",
    "    def run(self):\n",
    "        print('he is running')\n",
    "        \n",
    "        \n",
    "a1 = A(26, 5.11)\n",
    "a2 = A(21, 6)\n",
    "# a2.height = 5.5\n",
    "\n",
    "a1.school_name = 'Ankur'\n",
    "\n",
    "# a1.school_name\n",
    "\n",
    "A.school_name = 'Podar'\n",
    "a1.color = 'brown'\n",
    "\n",
    "a1.color\n",
    "A."
   ]
  },
  {
   "cell_type": "code",
   "execution_count": null,
   "id": "9dc3482a",
   "metadata": {},
   "outputs": [],
   "source": [
    "#Megic Methods, Dunder Methods\n",
    "# __str__"
   ]
  },
  {
   "cell_type": "code",
   "execution_count": null,
   "id": "dc9ff1ad",
   "metadata": {},
   "outputs": [],
   "source": [
    "# self\n",
    "# self points to the current instance of the class"
   ]
  },
  {
   "cell_type": "code",
   "execution_count": null,
   "id": "b6926bf7",
   "metadata": {},
   "outputs": [],
   "source": [
    "Instance Variable : can be accessed by ONLY OBJECT(self.age, s1.age)\n",
    "Class Variable : can be accessed by CLASS NAME & OBJECT(self.school_name, s1.school_name, A.school_name)"
   ]
  },
  {
   "cell_type": "code",
   "execution_count": null,
   "id": "5245a283",
   "metadata": {},
   "outputs": [],
   "source": [
    "# Instance Method:\n",
    "# it will be bounded to the Object\n",
    "class A:\n",
    "    school_name = 'Ankur'\n",
    "    def __init__(self, a, b):\n",
    "        self.age = a\n",
    "        self.height = b\n",
    "    \n",
    "    #Instance Method: self as a first para, points to the current instance\n",
    "    def info(self,nm):\n",
    "        self.name = nm\n",
    "        print(f'your age is {self.age} and {A.school_name} height is {self.height}')\n",
    "        \n",
    "a1 = A(45, 5)\n",
    "a3 = A(15, 5.3)\n",
    "a2 = A(21, 6)\n",
    "a1.info('Karan')\n",
    "# A.school_name = 'G.G.'\n",
    "# a3.school_name\n",
    "a2.info('lion')\n",
    "\n",
    "a2.age\n",
    "A.age"
   ]
  },
  {
   "cell_type": "code",
   "execution_count": null,
   "id": "a4bf5b0a",
   "metadata": {},
   "outputs": [],
   "source": [
    "# 2. Class Method - decorator called @classmethod\n",
    "# first parameter cls\n",
    "# bounds to the class\n",
    "\n",
    "class Students:\n",
    "    dress_code = 'Red'\n",
    "    \n",
    "    def __init__(self,n):\n",
    "        self.name = n\n",
    "    \n",
    "    @classmethod\n",
    "    def change_dress_code(cls):\n",
    "        cls.dress_code = 'blue'\n",
    "    \n",
    "    @staticmethod#can't access Instance variable & class Attributes\n",
    "    def show():\n",
    "        a = 90\n",
    "        return 7\n",
    "    \n",
    "    \n",
    "\n",
    "s1 = Students('nihar')\n",
    "Students.change_dress_code()\n",
    "s3 = Students('kite')\n",
    "# s3.show()\n",
    "Students.show()##\n",
    "# show()"
   ]
  },
  {
   "cell_type": "code",
   "execution_count": null,
   "id": "310e9c77",
   "metadata": {},
   "outputs": [],
   "source": [
    "def show():\n",
    "    a = 90\n",
    "    return 7\n",
    "show()"
   ]
  },
  {
   "cell_type": "code",
   "execution_count": null,
   "id": "dbda0e9c",
   "metadata": {},
   "outputs": [],
   "source": [
    "# decorator: tool which enhances the behaviour of a function"
   ]
  },
  {
   "cell_type": "code",
   "execution_count": null,
   "id": "a163475c",
   "metadata": {},
   "outputs": [],
   "source": [
    "class A:\n",
    "    var1 = 89\n",
    "    \n",
    "    def getter(self):\n",
    "        return self.var1\n",
    "    \n",
    "    def setter(self):\n",
    "        self.var1 = 100\n",
    "        \n",
    "    @classmethod\n",
    "    def s_setter(self):\n",
    "        self.var1 = 50\n",
    "                \n",
    "a1, a2, a3 = A(), A(), A()\n",
    "a1.s_setter()\n",
    "a2.var1 = 34\n",
    "a3.setter()\n",
    "a1.getter()"
   ]
  },
  {
   "cell_type": "code",
   "execution_count": null,
   "id": "db95617d",
   "metadata": {},
   "outputs": [],
   "source": [
    "#2. Inheritence\n",
    "\n",
    "#Types of Inheritence\n",
    "1. Single Inheritence\n",
    "2. Multiple Inheritence\n",
    "3. Multilevel Inheritence\n",
    "4. Hierarchical Inheritence\n",
    "5. Hybrid Inheritence\n",
    "\n",
    "# 1. Single Inheritence\n",
    "class Father: #Parent, Base, Ancestor\n",
    "    paisa = 'bohot sara'\n",
    "    \n",
    "    def info(self):\n",
    "        print(\"this is father's method\")\n",
    "        \n",
    "class Son(Father): #Child, Derived, Heir\n",
    "    time = 'bhar bhar ke'\n",
    "\n",
    "dev = Son()\n",
    "type(dev)"
   ]
  },
  {
   "cell_type": "code",
   "execution_count": null,
   "id": "a0a07d76",
   "metadata": {},
   "outputs": [],
   "source": [
    "# 2. Multiple Inheritence\n",
    "class Father:\n",
    "    paisa = 'bohot sara'\n",
    "    \n",
    "    def info(self):\n",
    "        print(\"this is father's method\")\n",
    "        \n",
    "class Mother:\n",
    "    h1 = 90\n",
    "\n",
    "class Son(Father, Mother):\n",
    "    time = 'bhar bhar ke'\n",
    "    \n",
    "s1 = Son()\n",
    "s1.time   \n"
   ]
  },
  {
   "cell_type": "code",
   "execution_count": null,
   "id": "f443328a",
   "metadata": {},
   "outputs": [],
   "source": [
    "# 4. Hierarchical Inheritence\n",
    "\n",
    "class A:\n",
    "    def show(self):\n",
    "        print('this is class A')\n",
    "        \n",
    "class B(A):\n",
    "    def info(slef):\n",
    "        print('this is class B')\n",
    "        \n",
    "class C(A):\n",
    "    def show(seld):\n",
    "        print('this is class C')\n",
    "        \n",
    "    def borrow_papa_method(self):\n",
    "        #super() points to the parent class' object\n",
    "        super().show()\n",
    "        \n",
    "c1 = C()\n",
    "c1.borrow_papa_method()"
   ]
  },
  {
   "cell_type": "code",
   "execution_count": null,
   "id": "ab40984c",
   "metadata": {},
   "outputs": [],
   "source": [
    "# 3. Multilevel Inheritence\n",
    "class G:\n",
    "    var1 = 'grandpa'\n",
    "class F(G):\n",
    "    var2 = 'Father'\n",
    "class S(F):\n",
    "    var3 = 'Son'\n",
    "    \n",
    "s1 = S()\n",
    "s1.var1"
   ]
  },
  {
   "cell_type": "code",
   "execution_count": null,
   "id": "cebb6d63",
   "metadata": {},
   "outputs": [],
   "source": [
    "#MRO : Method Resolution Order"
   ]
  },
  {
   "cell_type": "code",
   "execution_count": null,
   "id": "a1550978",
   "metadata": {},
   "outputs": [],
   "source": [
    "# Hybrid Inheritence - having more than one type of Inheritence\n",
    "\n",
    "class A(B):\n",
    "    def ssxhow(self):\n",
    "        print('this is A')\n",
    "        \n",
    "class B:\n",
    "    def sashow(self):\n",
    "        print('this is B')\n",
    "        \n",
    "class C:\n",
    "    def show(self):\n",
    "        print('this is C')\n",
    "    \n",
    "class D:\n",
    "    def show(self):\n",
    "        print('this is D')\n",
    "        \n",
    "class G(A,C):\n",
    "    def dshow(self):\n",
    "        print('this is G')\n",
    "    \n",
    "class F(B):\n",
    "    def sashow(self):\n",
    "        print('this is F')\n",
    "        \n",
    "class E(C,D):\n",
    "    def shsow(self):\n",
    "        print('this is E')\n",
    "        \n",
    "class H(G,F,E):\n",
    "    def tshow(self):\n",
    "        print('this is H')\n",
    "        \n",
    "class I(F,E):\n",
    "    def show(self):\n",
    "        print('this is I')\n",
    "    \n",
    "\n",
    "g1 = H()\n",
    "g1.show()\n",
    "H.mro()"
   ]
  },
  {
   "cell_type": "code",
   "execution_count": null,
   "id": "85c030cc",
   "metadata": {},
   "outputs": [],
   "source": [
    "class H(G, B, F):\n",
    "    pass"
   ]
  },
  {
   "cell_type": "code",
   "execution_count": null,
   "id": "bdfe7c6c",
   "metadata": {},
   "outputs": [],
   "source": [
    "#Polymorphism\n",
    "# Poly- many \n",
    "# morph - form"
   ]
  },
  {
   "cell_type": "code",
   "execution_count": null,
   "id": "847f2c8b",
   "metadata": {},
   "outputs": [],
   "source": [
    "# int, float, tuple, list, str, Human\n",
    "# 67 + 89\n",
    "# 'hi' + 'kl'\n",
    "# [4,5,56] + [5,6,6]\n",
    "{3,4} + {5,6}"
   ]
  },
  {
   "cell_type": "code",
   "execution_count": null,
   "id": "281bb89f",
   "metadata": {},
   "outputs": [],
   "source": [
    "__str__\n",
    "__add__\n",
    "s1 + s2"
   ]
  },
  {
   "cell_type": "code",
   "execution_count": null,
   "id": "8157631c",
   "metadata": {},
   "outputs": [],
   "source": [
    "class Human:\n",
    "    def __init__(self,a,b):\n",
    "        self.age = a\n",
    "        self.height = b\n",
    "    \n",
    "    def __add__(self, other):\n",
    "        return self.age + other.age\n",
    "    \n",
    "h1 = Human(21, 5.7)\n",
    "h2 = Human(56, 5.11)\n",
    "h1 + h2"
   ]
  },
  {
   "cell_type": "code",
   "execution_count": null,
   "id": "0f1cc7ca",
   "metadata": {},
   "outputs": [],
   "source": [
    "# 'sd' + 56\n",
    "[4,5] + (9,)"
   ]
  },
  {
   "cell_type": "code",
   "execution_count": null,
   "id": "c2222bfb",
   "metadata": {},
   "outputs": [],
   "source": [
    "er = 6,7\n",
    "print(er)"
   ]
  },
  {
   "cell_type": "code",
   "execution_count": null,
   "id": "e2eb0a8a",
   "metadata": {},
   "outputs": [],
   "source": [
    "#Operator Overloading\n",
    "class Human:\n",
    "    \n",
    "    def __init__(self, a, h):\n",
    "        self.age = a\n",
    "        self.height = h\n",
    "    \n",
    "    def __add__(self, other):\n",
    "        return self.age + other.age\n",
    "    \n",
    "h1 = Human(21, 5.4)\n",
    "h2 = Human(43, 5.6)\n",
    "h1 + h2"
   ]
  },
  {
   "cell_type": "code",
   "execution_count": null,
   "id": "4a1569d8",
   "metadata": {},
   "outputs": [],
   "source": [
    "#Method Overriding\n",
    "# two classes, same name of methods but different implementations\n",
    "\n",
    "class CEO:\n",
    "    def decision(self):\n",
    "        print('do not accept the deal')\n",
    "        \n",
    "class Manager(CEO):\n",
    "    def decision(self):\n",
    "        print('bech do company')\n",
    "        \n",
    "ceo = CEO()\n",
    "# ceo.decision()\n",
    "m1 = Manager()\n",
    "m1.decision()"
   ]
  },
  {
   "cell_type": "code",
   "execution_count": null,
   "id": "40b18a62",
   "metadata": {},
   "outputs": [],
   "source": [
    "#Method Overloading\n",
    "# python does not support method overloading\n",
    "\n",
    "class A:\n",
    "    \n",
    "    def add1(self,a,b):\n",
    "        return a+b\n",
    "    \n",
    "    def add1(self, a,b):\n",
    "        return a*b\n",
    "    \n",
    "a1 = A()\n",
    "a1.add1(4,5)"
   ]
  },
  {
   "cell_type": "code",
   "execution_count": null,
   "id": "5e69af46",
   "metadata": {},
   "outputs": [],
   "source": [
    "class Dad:\n",
    "    _paiso = 'bahot sara'\n",
    "    \n",
    "    \n",
    "class Son(Dad):\n",
    "    vehicle = 'udankhatola'\n",
    "\n",
    "s1 = Son()\n",
    "d1 = Dad()\n",
    "s1._paiso"
   ]
  },
  {
   "cell_type": "code",
   "execution_count": null,
   "id": "46d64f9f",
   "metadata": {},
   "outputs": [],
   "source": [
    "# 4. Encapsulation\n",
    "# wrap the data in single unit\n",
    "\n",
    "# Modifiers\n",
    "# private, protected, public\n",
    "\n",
    "# private: can be accessed from ONLY inside the class\n",
    "# prefix that name with double underscore\n",
    "# getter and setter methods will help us to access or change\n",
    "\n",
    "class A:\n",
    "    #private variable\n",
    "    __age = 90\n",
    "    var2 = 56\n",
    "    \n",
    "    def __show(self):\n",
    "        print('this is A')\n",
    "    \n",
    "    #getter method\n",
    "    def g1(self):\n",
    "        return self.__age\n",
    "        \n",
    "    #setter method\n",
    "    def s1(self,a):\n",
    "        self.__age = a\n",
    "    \n",
    "a1 = A()\n",
    "a1.__show()"
   ]
  },
  {
   "cell_type": "code",
   "execution_count": null,
   "id": "aa3d9924",
   "metadata": {},
   "outputs": [],
   "source": [
    "#Protected: can be accessed from parent and child class\n",
    "# prefix it with single underscore\n",
    "\n",
    "class Dad:\n",
    "    _paisa = 100\n",
    "    \n",
    "class Son(Dad):\n",
    "    pass\n",
    "\n",
    "s1 = Son()\n",
    "s1._paisa"
   ]
  },
  {
   "cell_type": "code",
   "execution_count": null,
   "id": "67eb2d0c",
   "metadata": {},
   "outputs": [],
   "source": [
    "#Abstraction : hiding unnecessary things\n",
    "# ABC : Abstract Base Class\n",
    "\n",
    "from abc import ABC, abstractmethod\n",
    "\n",
    "class Human(ABC):\n",
    "    \n",
    "    @abstractmethod\n",
    "    def reading(self):\n",
    "        pass\n",
    "    \n",
    "    @abstractmethod\n",
    "    def running(self):\n",
    "        pass\n",
    "    \n",
    "    @abstractmethod\n",
    "    def sleeping(self):\n",
    "        pass\n",
    "    \n",
    "\n",
    "class Female(Human):\n",
    "    def running(self):\n",
    "        print('running at 5 kmph')\n",
    "\n",
    "    def sleeping(self):\n",
    "        print('zzzzzz')\n",
    "        \n",
    "    def reading(self):\n",
    "        print('books more n more')\n",
    "        \n",
    "f1 = Female()\n",
    "f1.reading()"
   ]
  },
  {
   "cell_type": "code",
   "execution_count": null,
   "id": "9f7a20b8",
   "metadata": {},
   "outputs": [],
   "source": []
  }
 ],
 "metadata": {
  "kernelspec": {
   "display_name": "Python 3 (ipykernel)",
   "language": "python",
   "name": "python3"
  },
  "language_info": {
   "codemirror_mode": {
    "name": "ipython",
    "version": 3
   },
   "file_extension": ".py",
   "mimetype": "text/x-python",
   "name": "python",
   "nbconvert_exporter": "python",
   "pygments_lexer": "ipython3",
   "version": "3.9.7"
  }
 },
 "nbformat": 4,
 "nbformat_minor": 5
}
