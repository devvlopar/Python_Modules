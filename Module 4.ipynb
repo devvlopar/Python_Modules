{
 "cells": [
  {
   "cell_type": "code",
   "execution_count": null,
   "id": "30d94d89",
   "metadata": {},
   "outputs": [],
   "source": [
    "# Exception Handling\n",
    "Errors:\n",
    "    execution stops\n",
    "SyntaxError\n",
    "Exceptions(logical errors)"
   ]
  },
  {
   "cell_type": "code",
   "execution_count": null,
   "id": "6e833a06",
   "metadata": {},
   "outputs": [],
   "source": [
    "# keywords\n",
    "try except finally raise assert"
   ]
  },
  {
   "cell_type": "code",
   "execution_count": null,
   "id": "d0d0404c",
   "metadata": {},
   "outputs": [],
   "source": [
    "try:\n",
    "    try:   \n",
    "        a = int(input())\n",
    "    except:\n",
    "        [4,5][9]\n",
    "    f = [4,5,6][a]\n",
    "    print(10/a)\n",
    "    print(f)\n",
    "except ZeroDivisionError:\n",
    "    try:\n",
    "        print('you have entered zero, enter non-zero number')\n",
    "        a = int(input())\n",
    "        print(10/a)\n",
    "    except:\n",
    "        print('tumse na ho payega')\n",
    "except ValueError:\n",
    "    print('you were asked to enter a NUMBER')\n",
    "    a = int(input())\n",
    "    print(10/a)\n",
    "except:\n",
    "    print('ab sab bhagwan ke haath mein hai')\n"
   ]
  },
  {
   "cell_type": "code",
   "execution_count": null,
   "id": "f5407fae",
   "metadata": {},
   "outputs": [],
   "source": [
    "def f1(a,b):\n",
    "    a  = a + b\n",
    "    return None, True, False\n",
    "try:\n",
    "    print(f1(1,4))\n",
    "except:\n",
    "    print('error')\n",
    "finally: #it will always(if error raise or not) execute\n",
    "#It is used for utility purpose\n",
    "    print('this is finally block')"
   ]
  },
  {
   "cell_type": "code",
   "execution_count": null,
   "id": "7a734578",
   "metadata": {},
   "outputs": [],
   "source": [
    "def f1(a,b):\n",
    "    a  = a + b\n",
    "    return None, True, False\n",
    "try:\n",
    "    print(f1(1,4,4,5))\n",
    "except:\n",
    "    print('error')\n",
    "print('bahaar')"
   ]
  },
  {
   "cell_type": "code",
   "execution_count": null,
   "id": "4676c13a",
   "metadata": {},
   "outputs": [],
   "source": [
    "for i in range(1,10):\n",
    "    if i == 4:\n",
    "        raise ValueError('ye value pasand nahi hai')\n",
    "    print(i)"
   ]
  },
  {
   "cell_type": "code",
   "execution_count": null,
   "id": "38a3b7fa",
   "metadata": {},
   "outputs": [],
   "source": [
    "# Custom Exception:\n",
    "raise IdentityTheftError"
   ]
  },
  {
   "cell_type": "code",
   "execution_count": null,
   "id": "7edfe934",
   "metadata": {},
   "outputs": [],
   "source": [
    "# assert True/False\n",
    "# True : does nothing\n",
    "# False : raises AssertionError\n",
    "a = 90\n",
    "assert a<9, 'Ye Falsy value hai'"
   ]
  },
  {
   "cell_type": "code",
   "execution_count": null,
   "id": "e00a2450",
   "metadata": {},
   "outputs": [],
   "source": [
    "#File Handling , I/O\n",
    "# text files, other files (binary files)\n"
   ]
  },
  {
   "cell_type": "code",
   "execution_count": null,
   "id": "458c935a",
   "metadata": {},
   "outputs": [],
   "source": [
    "# 'x' : create - raises an error when file already exists\n",
    "\n",
    "# 'r' : read - raises an error when file does not exist\n",
    "\n",
    "# 'a' : append - does not raises an error when it does not exists\n",
    "# (and creates a new file)\n",
    "\n",
    "# 'w' : write - overwrite, creates a new file if it does not exist"
   ]
  },
  {
   "cell_type": "code",
   "execution_count": null,
   "id": "f835369f",
   "metadata": {},
   "outputs": [],
   "source": [
    "# Syntax:\n",
    "# open('filename/file path', 'mode')\n",
    "# open() returns a file object"
   ]
  },
  {
   "cell_type": "code",
   "execution_count": null,
   "id": "86cfa3dd",
   "metadata": {},
   "outputs": [],
   "source": [
    "f1 = open(r'C:\\Users\\Django\\Documents\\Python_Batches\\16th_Jun\\Python\\ty.txt', 'x')"
   ]
  },
  {
   "cell_type": "code",
   "execution_count": null,
   "id": "3c0b35b3",
   "metadata": {},
   "outputs": [],
   "source": [
    "f1 = open('ty.txt', 'r')\n",
    "f1.read() #reads(rest of the file) from the position of the cursor\n",
    "f1.tell() #it gives the position of cursor /file \n",
    "f1.read()\n",
    "f1.close()"
   ]
  },
  {
   "cell_type": "code",
   "execution_count": null,
   "id": "c9613aaf",
   "metadata": {},
   "outputs": [],
   "source": [
    "f2 = open('ty.txt', 'r')\n",
    "# f2.seek(576) #it changes the cursor's position\n",
    "f2.read()\n",
    "f2.tell()"
   ]
  },
  {
   "cell_type": "code",
   "execution_count": null,
   "id": "37c313c6",
   "metadata": {},
   "outputs": [],
   "source": [
    "f2 = open('ty.txt', 'r')\n",
    "f2.read()\n",
    "f2.close()"
   ]
  },
  {
   "cell_type": "code",
   "execution_count": null,
   "id": "3c1d59d4",
   "metadata": {},
   "outputs": [],
   "source": [
    "f3 = open('ty.txt', 'r')\n",
    "lin1 = f3.readline()\n",
    "lin2 = f3.readline()\n",
    "print(lin1)\n",
    "print(lin2)"
   ]
  },
  {
   "cell_type": "code",
   "execution_count": null,
   "id": "add7851c",
   "metadata": {},
   "outputs": [],
   "source": [
    "f3 = open('ty.txt', 'r')\n",
    "lin1 = f3.readlines(5)\n",
    "print(lin1)"
   ]
  },
  {
   "cell_type": "code",
   "execution_count": null,
   "id": "78a65fbc",
   "metadata": {},
   "outputs": [],
   "source": [
    "f3 = open('ty.txt', 'w')\n",
    "f3.write('python\\nlanguage')\n",
    "f3.close()"
   ]
  },
  {
   "cell_type": "code",
   "execution_count": null,
   "id": "e0e90906",
   "metadata": {},
   "outputs": [],
   "source": [
    "try:\n",
    "    f3 = open('nihar.txt', 'w')\n",
    "    f3.write('nihar')\n",
    "except:\n",
    "    pass\n",
    "finally:\n",
    "    f3.close()"
   ]
  },
  {
   "cell_type": "code",
   "execution_count": null,
   "id": "39f38f54",
   "metadata": {},
   "outputs": [],
   "source": [
    "f2 = open('niha.txt', 'a')\n",
    "f2.write('\\nabhi')\n",
    "f2.close()"
   ]
  },
  {
   "cell_type": "code",
   "execution_count": null,
   "id": "c1bc92a2",
   "metadata": {},
   "outputs": [],
   "source": [
    "with open('nihar.txt', 'w') as f2:\n",
    "    f2.write('pythonnnnnnnnn')"
   ]
  },
  {
   "cell_type": "code",
   "execution_count": null,
   "id": "03e0767f",
   "metadata": {},
   "outputs": [],
   "source": [
    "# OOPS\n",
    "# Object Oriented Programming"
   ]
  },
  {
   "cell_type": "code",
   "execution_count": null,
   "id": "3897a4db",
   "metadata": {},
   "outputs": [],
   "source": [
    "type(1123)"
   ]
  },
  {
   "cell_type": "code",
   "execution_count": null,
   "id": "07395eff",
   "metadata": {},
   "outputs": [],
   "source": [
    "# class/ blueprint\n",
    "class\n",
    "object"
   ]
  },
  {
   "cell_type": "code",
   "execution_count": null,
   "id": "551267c2",
   "metadata": {},
   "outputs": [],
   "source": [
    "class Humans:\n",
    "    pass\n",
    "\n",
    "h1 = Humans()\n",
    "type(h1)"
   ]
  },
  {
   "cell_type": "code",
   "execution_count": null,
   "id": "c6e0a6b8",
   "metadata": {},
   "outputs": [],
   "source": [
    "34 -int\n",
    "89 -int\n",
    "2.3 -float"
   ]
  },
  {
   "cell_type": "code",
   "execution_count": null,
   "id": "9a6c6ee2",
   "metadata": {},
   "outputs": [],
   "source": [
    "class list:\n",
    "    pass\n",
    "[4,5,56]"
   ]
  },
  {
   "cell_type": "code",
   "execution_count": null,
   "id": "ac0b4f1a",
   "metadata": {},
   "outputs": [],
   "source": [
    "type([4,5,56])"
   ]
  },
  {
   "cell_type": "code",
   "execution_count": null,
   "id": "f0e11539",
   "metadata": {},
   "outputs": [],
   "source": [
    "#Syntax:\n",
    "class Human:\n",
    "    pass\n",
    "#Instatiate, object construct\n",
    "h1 = Human()\n",
    "\n",
    "class Building:\n",
    "    pass\n",
    "j1 = Building()\n",
    "j2 = Building()\n",
    "# type(j1)\n",
    "type(print)"
   ]
  },
  {
   "cell_type": "code",
   "execution_count": null,
   "id": "35b17a21",
   "metadata": {},
   "outputs": [],
   "source": [
    "def fun1(para1=90, para2=90):\n",
    "    pass\n",
    "\n",
    "fun1()"
   ]
  },
  {
   "cell_type": "code",
   "execution_count": null,
   "id": "27bd3912",
   "metadata": {},
   "outputs": [],
   "source": [
    "class Building:\n",
    "    pass\n",
    "ram = Building()\n",
    "shyam = Building()\n",
    "laxman = Building()\n",
    "\n",
    "print(id(ram), id(shyam), id(laxman))"
   ]
  },
  {
   "cell_type": "code",
   "execution_count": null,
   "id": "e6aa3445",
   "metadata": {},
   "outputs": [],
   "source": [
    "ram = {'a':90, 'n':90}\n",
    "[4,5]\n",
    "(3,)\n",
    "'high'"
   ]
  },
  {
   "cell_type": "code",
   "execution_count": null,
   "id": "e04b84bf",
   "metadata": {},
   "outputs": [],
   "source": [
    "a = 90\n",
    "b = 90"
   ]
  },
  {
   "cell_type": "code",
   "execution_count": null,
   "id": "31edf1d8",
   "metadata": {},
   "outputs": [],
   "source": [
    "print(b)"
   ]
  },
  {
   "cell_type": "code",
   "execution_count": null,
   "id": "3dec1428",
   "metadata": {},
   "outputs": [],
   "source": [
    "REPL: read, eval, print, loop"
   ]
  },
  {
   "cell_type": "code",
   "execution_count": null,
   "id": "fe2826ec",
   "metadata": {},
   "outputs": [],
   "source": [
    "ram = 90\n",
    "shyam = 90"
   ]
  },
  {
   "cell_type": "code",
   "execution_count": null,
   "id": "615e1d34",
   "metadata": {},
   "outputs": [],
   "source": [
    "def f1():\n",
    "    ram = 3.4\n",
    "    shyam = 78\n",
    "    \n",
    "ram"
   ]
  },
  {
   "cell_type": "code",
   "execution_count": null,
   "id": "233141d6",
   "metadata": {},
   "outputs": [],
   "source": [
    "# Garbage collector"
   ]
  },
  {
   "cell_type": "code",
   "execution_count": null,
   "id": "08674945",
   "metadata": {},
   "outputs": [],
   "source": [
    "exit()"
   ]
  },
  {
   "cell_type": "code",
   "execution_count": null,
   "id": "a36530a4",
   "metadata": {},
   "outputs": [],
   "source": [
    "papu = 90\n",
    "nim = 90\n",
    "print(id(papu), id(nim), id(90))"
   ]
  },
  {
   "cell_type": "code",
   "execution_count": null,
   "id": "647ed4ff",
   "metadata": {},
   "outputs": [],
   "source": [
    "# a = [3,4]\n",
    "b = [3,4]\n",
    "print(id(b))\n",
    "b.append(23)\n",
    "print(id(b))\n",
    "print(id([]))"
   ]
  },
  {
   "cell_type": "code",
   "execution_count": null,
   "id": "d33cd274",
   "metadata": {},
   "outputs": [],
   "source": [
    "# t1 = (2,3,4)\n",
    "# print(id(t1))\n",
    "t2 = (2,3,4)\n",
    "t3 = t2\n",
    "print(id(t2), id(t3))"
   ]
  },
  {
   "cell_type": "code",
   "execution_count": null,
   "id": "404533bf",
   "metadata": {},
   "outputs": [],
   "source": [
    "by reference , id\n",
    "by value, obj"
   ]
  },
  {
   "cell_type": "code",
   "execution_count": null,
   "id": "173263c9",
   "metadata": {},
   "outputs": [],
   "source": [
    "set1"
   ]
  },
  {
   "cell_type": "code",
   "execution_count": null,
   "id": "a9a466a1",
   "metadata": {},
   "outputs": [],
   "source": [
    "list1[1] = 44\n",
    "a = list1 * 3\n",
    "print(id(a), id(list1))"
   ]
  },
  {
   "cell_type": "code",
   "execution_count": null,
   "id": "dff56f78",
   "metadata": {},
   "outputs": [],
   "source": [
    "list1 = [[2,3], [4,5], [5,6]]\n",
    "list1 * 2"
   ]
  },
  {
   "cell_type": "code",
   "execution_count": null,
   "id": "c7e1b454",
   "metadata": {},
   "outputs": [],
   "source": [
    "list1 = [3,4,5]\n",
    "III = [list1 for j in range(3)]\n",
    "\n",
    "for i in range(3):\n",
    "    III.append(list1)"
   ]
  },
  {
   "cell_type": "code",
   "execution_count": null,
   "id": "3b37dc5c",
   "metadata": {},
   "outputs": [],
   "source": [
    "[[3,4,5], [3,4,5], [3,4,5]]"
   ]
  },
  {
   "cell_type": "code",
   "execution_count": null,
   "id": "bd501be7",
   "metadata": {},
   "outputs": [],
   "source": [
    "list1 = [3,4,5]\n",
    "list1 * 3u"
   ]
  },
  {
   "cell_type": "code",
   "execution_count": null,
   "id": "88e23c1f",
   "metadata": {},
   "outputs": [],
   "source": [
    "type(67)"
   ]
  },
  {
   "cell_type": "code",
   "execution_count": null,
   "id": "e499ca06",
   "metadata": {},
   "outputs": [],
   "source": [
    "type(True)"
   ]
  },
  {
   "cell_type": "code",
   "execution_count": null,
   "id": "aa89f621",
   "metadata": {},
   "outputs": [],
   "source": [
    "a = 3.4\n",
    "b = 3.4\n",
    "print(id(a), id(b), id(3.4))"
   ]
  },
  {
   "cell_type": "code",
   "execution_count": 3,
   "id": "b4af5f83",
   "metadata": {
    "scrolled": true
   },
   "outputs": [
    {
     "data": {
      "text/plain": [
       "<__main__.A at 0x2206729e460>"
      ]
     },
     "execution_count": 3,
     "metadata": {},
     "output_type": "execute_result"
    }
   ],
   "source": [
    "class A:\n",
    "    pass\n",
    "\n",
    "s1 = A()\n",
    "s1"
   ]
  },
  {
   "cell_type": "code",
   "execution_count": null,
   "id": "c7d9d050",
   "metadata": {},
   "outputs": [],
   "source": [
    "# exception handling\n",
    "# object oriented\n",
    "# class and object\n",
    "# conditional statements\n",
    "# functions\n",
    "# dictionary"
   ]
  }
 ],
 "metadata": {
  "kernelspec": {
   "display_name": "Python 3 (ipykernel)",
   "language": "python",
   "name": "python3"
  },
  "language_info": {
   "codemirror_mode": {
    "name": "ipython",
    "version": 3
   },
   "file_extension": ".py",
   "mimetype": "text/x-python",
   "name": "python",
   "nbconvert_exporter": "python",
   "pygments_lexer": "ipython3",
   "version": "3.9.7"
  }
 },
 "nbformat": 4,
 "nbformat_minor": 5
}
