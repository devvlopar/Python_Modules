{
 "cells": [
  {
   "cell_type": "code",
   "execution_count": null,
   "id": "2b8f5de4",
   "metadata": {},
   "outputs": [],
   "source": [
    "# Human Languages\n",
    "\n",
    "# Programming, Coding\n",
    "# we are communicating with the copmputer\n",
    "# Binary\n",
    "01\n",
    "\n",
    "programming languages\n",
    "translators\n",
    "\n",
    "compilers, Interpreters\n",
    "into machine code\n",
    "\n",
    "# Interpreted Langs., scripting\n",
    "Python - Interpreter\n",
    "Line by Line execution\n"
   ]
  },
  {
   "cell_type": "code",
   "execution_count": null,
   "id": "10b2cb04",
   "metadata": {},
   "outputs": [],
   "source": [
    "# Portable -It is not plateform specific\n",
    "# Open Source \n",
    "# Compacts the code \n",
    "\n",
    "*\n",
    "**\n",
    "***\n",
    "****\n",
    "\n",
    "# for(i=0;i>5;i++){\n",
    "#     for(j){\n",
    "#     printf('*');\n",
    "#     }\n",
    "#     printf();\n",
    "# }"
   ]
  },
  {
   "cell_type": "code",
   "execution_count": null,
   "id": "6b07407d",
   "metadata": {},
   "outputs": [],
   "source": [
    "for i in range(1,5):print('*'*i)"
   ]
  },
  {
   "cell_type": "code",
   "execution_count": null,
   "id": "ac9b56aa",
   "metadata": {},
   "outputs": [],
   "source": [
    "# Variable\n",
    "# Container, memory location\n",
    "# stores the value, data, information\n",
    "\n",
    "bottle = 'water' \n",
    "# variable name = value ,Syntax\n",
    "print(bottle)"
   ]
  },
  {
   "cell_type": "code",
   "execution_count": null,
   "id": "eec15f00",
   "metadata": {},
   "outputs": [],
   "source": [
    "# define, declare\n",
    "# ignores the whitespaces, comments\n",
    "# Comments: after hash rest of the line willbe commented\n",
    "\n",
    "a = 90 #defining a variable\n",
    "a = 12\n",
    "print(a)\n"
   ]
  },
  {
   "cell_type": "code",
   "execution_count": null,
   "id": "b1043f43",
   "metadata": {},
   "outputs": [],
   "source": [
    "# Syntax : rules which we need to follow, format"
   ]
  },
  {
   "cell_type": "code",
   "execution_count": null,
   "id": "73c87394",
   "metadata": {},
   "outputs": [],
   "source": [
    "# print function, statement\n",
    "a = b = 'polo'\n",
    "var1, var2 = 20, 10\n",
    "print(var2)\n",
    "\n"
   ]
  },
  {
   "cell_type": "code",
   "execution_count": null,
   "id": "6e35d72a",
   "metadata": {},
   "outputs": [],
   "source": [
    "#input()\n",
    "data1 = input() #converts into str datatype\n",
    "print(type(data1))"
   ]
  },
  {
   "cell_type": "code",
   "execution_count": null,
   "id": "2bfeab56",
   "metadata": {},
   "outputs": [],
   "source": [
    "# Datatypes\n",
    "# int - integer : 1, 7687, 0, 89, -90\n",
    "# float : 56.7, 34.5, 56.6 , 89.0\n",
    "# str string : denoted with  \" \" even ' ' \n",
    "#     character, words, sentence, paragraphs,\n",
    "#      multiline strings triple quotes \n",
    "# bool (boolean): True False\n",
    "    \n",
    "# Collections\n",
    "# list - [1,2,3]\n",
    "# tuple - (1,2,3)\n",
    "# set -{1,2,3}\n",
    "# dictionary(dict) - {key : value}, key value pairs"
   ]
  },
  {
   "cell_type": "code",
   "execution_count": null,
   "id": "1a546e7b",
   "metadata": {
    "scrolled": true
   },
   "outputs": [],
   "source": [
    "var1 = '''Python is a high-level, interpreted, general-purpose\n",
    "programming language. Its design philosophy emphasizes\n",
    "ode readability with the use of significant indentation.\n",
    "Python is dynamically-typed and garbage-collected.'''\n",
    "print(var1)"
   ]
  },
  {
   "cell_type": "code",
   "execution_count": null,
   "id": "b4f6a699",
   "metadata": {},
   "outputs": [],
   "source": [
    "a = 90\n",
    "b = 67\n",
    "c = Z\n",
    "print(c)"
   ]
  },
  {
   "cell_type": "code",
   "execution_count": null,
   "id": "08fb39cf",
   "metadata": {},
   "outputs": [],
   "source": [
    "# Operators\n",
    "# who operates, who performs some task\n",
    "\n",
    "# 1. Arithmetic Operators\n",
    "+ : addition\n",
    "- : substraction\n",
    "*(asterisk) : mulitplication\n",
    "/ : division\n",
    "% : modulo\n",
    "** : power\n",
    "// : floor division"
   ]
  },
  {
   "cell_type": "code",
   "execution_count": null,
   "id": "6b2f2b2a",
   "metadata": {},
   "outputs": [],
   "source": [
    "# Addition\n",
    "# operands\n",
    "print(1+2)\n",
    "# print(1+2.4)"
   ]
  },
  {
   "cell_type": "code",
   "execution_count": null,
   "id": "50e0867e",
   "metadata": {},
   "outputs": [],
   "source": [
    "# Substraction\n",
    "print(1-2.9)"
   ]
  },
  {
   "cell_type": "code",
   "execution_count": null,
   "id": "aeffd936",
   "metadata": {},
   "outputs": [],
   "source": [
    "# Multiplication\n",
    "print(2*7.3)"
   ]
  },
  {
   "cell_type": "code",
   "execution_count": null,
   "id": "bcbc4267",
   "metadata": {},
   "outputs": [],
   "source": [
    "# Division Operator - return type will be float \n",
    "print(14/11.2)"
   ]
  },
  {
   "cell_type": "code",
   "execution_count": null,
   "id": "bd1eee9f",
   "metadata": {},
   "outputs": [],
   "source": [
    "# Modulo - return the reminder, return type will be integer\n",
    "print(12%12)"
   ]
  },
  {
   "cell_type": "code",
   "execution_count": null,
   "id": "5d4e8430",
   "metadata": {},
   "outputs": [],
   "source": [
    "# power\n",
    "print(2**3)\n",
    "#Syntax: base**power"
   ]
  },
  {
   "cell_type": "code",
   "execution_count": null,
   "id": "fe096b24",
   "metadata": {},
   "outputs": [],
   "source": [
    "# Floor division - returns the floor value\n",
    "# floor, ceiling\n",
    "# -9,-8...-1,0,1,2,3\n",
    "# 1,1.1,1.2,1.999,2\n",
    "\n",
    "print(5//2)"
   ]
  },
  {
   "cell_type": "code",
   "execution_count": null,
   "id": "591b6380",
   "metadata": {},
   "outputs": [],
   "source": [
    "# 2. Comparision Operators\n",
    ">\n",
    "<\n",
    ">=\n",
    "<=\n",
    "==\n",
    "!="
   ]
  },
  {
   "cell_type": "code",
   "execution_count": null,
   "id": "2d59efba",
   "metadata": {},
   "outputs": [],
   "source": [
    "# 1. > \n",
    "# print(3 > 1)\n",
    "\n",
    "# 2. <\n",
    "# print(1<2)\n",
    "\n",
    "# 3. >=, greater than OR equals to\n",
    "# a = 12\n",
    "# print(a>=12)\n",
    "\n",
    "# 4. <=, less than OR equals to\n",
    "# print(12<=12)\n",
    "\n",
    "# 5. ==, checks if both operands are equal (REMEMBER)\n",
    "# by value\n",
    "# print(12==11)\n",
    "\n",
    "# 6. !=, checks if both operands are not equal\n",
    "# print(1!=2)"
   ]
  },
  {
   "cell_type": "code",
   "execution_count": null,
   "id": "02606b8d",
   "metadata": {},
   "outputs": [],
   "source": [
    "# 3. Assignment Operators\n",
    "=\n",
    "+=\n",
    "-=\n",
    "*=\n",
    "%=\n",
    "/=\n",
    "**=\n",
    "//="
   ]
  },
  {
   "cell_type": "code",
   "execution_count": null,
   "id": "585542af",
   "metadata": {},
   "outputs": [],
   "source": [
    "# 1. =\n",
    "# left side(variable) = value Assigning a value\n",
    "a = 0\n",
    "print(a)"
   ]
  },
  {
   "cell_type": "code",
   "execution_count": null,
   "id": "5ed3cef9",
   "metadata": {},
   "outputs": [],
   "source": [
    "# 2. +=\n",
    "a = 1\n",
    "a += 134\n",
    "# a = a + 134 (Expansion)\n",
    "# a = 135\n",
    "print(a)"
   ]
  },
  {
   "cell_type": "code",
   "execution_count": null,
   "id": "1681a12e",
   "metadata": {},
   "outputs": [],
   "source": [
    "# 3. -=\n",
    "num = 90\n",
    "num -= 23\n",
    "# num = num - 23\n",
    "print(num)"
   ]
  },
  {
   "cell_type": "code",
   "execution_count": null,
   "id": "d16704b4",
   "metadata": {},
   "outputs": [],
   "source": [
    "# ## Keywords\n",
    "# reserved words\n",
    "# for , if , else, elif, class, True, False, None.. \n",
    "# guido van rossum\n",
    "_a12 = 90\n",
    "print(_a12)"
   ]
  },
  {
   "cell_type": "code",
   "execution_count": null,
   "id": "8185157f",
   "metadata": {},
   "outputs": [],
   "source": [
    "# naming convention\n",
    "# Identifier valid , invalid\n",
    "# 1. doesn't allow keywords\n",
    "# 2. starts from either _ or alphabets(aavsjkYFGJHG)( first character)\n",
    "# 3. it could contain _ , alphabets & numbers(rest of the characters)"
   ]
  },
  {
   "cell_type": "code",
   "execution_count": null,
   "id": "b5e6b77b",
   "metadata": {},
   "outputs": [],
   "source": [
    "Youname = 89\n",
    "youname = 78\n",
    "print(youname)"
   ]
  },
  {
   "cell_type": "code",
   "execution_count": null,
   "id": "bb5c1315",
   "metadata": {},
   "outputs": [],
   "source": [
    "abc = 12\n",
    "eric = 12\n",
    "eric = 13\n",
    "print(id(abc),id(eric))"
   ]
  },
  {
   "cell_type": "code",
   "execution_count": null,
   "id": "6412c7d1",
   "metadata": {},
   "outputs": [],
   "source": [
    "# it will print, it will move the cursor to the new line\n",
    "print('Neem',end='') \n",
    "print('patel')\n",
    "print('new line')"
   ]
  },
  {
   "cell_type": "code",
   "execution_count": null,
   "id": "23e26c37",
   "metadata": {},
   "outputs": [],
   "source": [
    "# 4. *=\n",
    "a = 90\n",
    "a *= 4\n",
    "# a = a * 4\n",
    "print(a)"
   ]
  },
  {
   "cell_type": "code",
   "execution_count": null,
   "id": "f24e2b6b",
   "metadata": {},
   "outputs": [],
   "source": [
    "# 5. /=\n",
    "a = 15\n",
    "a /= 5\n",
    "print(a)"
   ]
  },
  {
   "cell_type": "code",
   "execution_count": null,
   "id": "c694197d",
   "metadata": {},
   "outputs": [],
   "source": [
    "# 6. **=\n",
    "a = 3\n",
    "b = 5\n",
    "a **= b\n",
    "# a = a ** b\n",
    "print(a)"
   ]
  },
  {
   "cell_type": "code",
   "execution_count": null,
   "id": "33862f73",
   "metadata": {},
   "outputs": [],
   "source": [
    "# 7. %=\n",
    "a = 12\n",
    "b = 2\n",
    "a %= b\n",
    "print(a)"
   ]
  },
  {
   "cell_type": "code",
   "execution_count": null,
   "id": "e8af067c",
   "metadata": {},
   "outputs": [],
   "source": [
    "# 8. //=\n",
    "a = 10\n",
    "b = 5\n",
    "b //= a\n",
    "print(a,b)"
   ]
  },
  {
   "cell_type": "code",
   "execution_count": null,
   "id": "38ae13b1",
   "metadata": {},
   "outputs": [],
   "source": [
    "# 3. Logical Operators\n",
    "and : operands: either True or False\n",
    "or \n",
    "# Syntax ( operand and operand )\n",
    "\n",
    "not\n",
    "# Syntax ( operand )"
   ]
  },
  {
   "cell_type": "code",
   "execution_count": null,
   "id": "63b40e5a",
   "metadata": {},
   "outputs": [],
   "source": [
    "a = True\n",
    "b = True\n",
    "print( a and b )"
   ]
  },
  {
   "cell_type": "code",
   "execution_count": null,
   "id": "c3f35f90",
   "metadata": {},
   "outputs": [],
   "source": [
    "print( 121>920 or 312<90 )"
   ]
  },
  {
   "cell_type": "code",
   "execution_count": null,
   "id": "e4180223",
   "metadata": {},
   "outputs": [],
   "source": [
    "print(not 16>7)"
   ]
  },
  {
   "cell_type": "code",
   "execution_count": null,
   "id": "368bd357",
   "metadata": {},
   "outputs": [],
   "source": [
    "# 4. Membership Operator\n",
    "# p = 12\n",
    "# b = 34\n",
    "\n",
    "# 1. in\n",
    "# Syntax : (member in group)\n",
    "\n",
    "# 2. not in\n",
    "# Syntax : (member not in group)\n",
    "# checks if memeber is not in the group"
   ]
  },
  {
   "cell_type": "code",
   "execution_count": null,
   "id": "260b4290",
   "metadata": {},
   "outputs": [],
   "source": [
    "p = 'on'\n",
    "print(p in 'python lang')"
   ]
  },
  {
   "cell_type": "code",
   "execution_count": null,
   "id": "81efac3a",
   "metadata": {},
   "outputs": [],
   "source": [
    "# Identity Operators\n",
    "is \n",
    "is not"
   ]
  },
  {
   "cell_type": "code",
   "execution_count": null,
   "id": "df2fcaa9",
   "metadata": {},
   "outputs": [],
   "source": [
    "# is (identity (by reference))\n",
    "# checks if both are same \n",
    "a = 10\n",
    "b = 40\n",
    "print( a is b )"
   ]
  },
  {
   "cell_type": "code",
   "execution_count": null,
   "id": "d85183bc",
   "metadata": {},
   "outputs": [],
   "source": [
    "a = 10\n",
    "b = 1 + 9\n",
    "# print( a == b )\n",
    "print(id(a))\n",
    "print(id(b))"
   ]
  },
  {
   "cell_type": "code",
   "execution_count": null,
   "id": "b8bf4863",
   "metadata": {},
   "outputs": [],
   "source": [
    "list1 = [1,2,3,4]\n",
    "list2 = list1[:]\n",
    "# print(id(list1),id(list2))\n",
    "print(list2 is list1)"
   ]
  },
  {
   "cell_type": "code",
   "execution_count": null,
   "id": "288d376c",
   "metadata": {},
   "outputs": [],
   "source": [
    "\n",
    "a = input()\n",
    "print(type(a))"
   ]
  },
  {
   "cell_type": "code",
   "execution_count": null,
   "id": "87b5bac2",
   "metadata": {},
   "outputs": [],
   "source": [
    "print( 67 == 67.0001 )"
   ]
  },
  {
   "cell_type": "code",
   "execution_count": null,
   "id": "186b2039",
   "metadata": {},
   "outputs": [],
   "source": [
    "# Conditional Statements\n",
    "# 1. if\n",
    "# 2. if else\n",
    "# 3. elif\n",
    "# 4. nested if"
   ]
  },
  {
   "cell_type": "code",
   "execution_count": null,
   "id": "373c9b11",
   "metadata": {},
   "outputs": [],
   "source": [
    "1. if\n",
    "# block of code starts from the : sign\n",
    "# Syntax:\n",
    "# if condition:\n",
    "# <indent>code\n",
    "# block of code , suite "
   ]
  },
  {
   "cell_type": "code",
   "execution_count": null,
   "id": "9ccb6323",
   "metadata": {},
   "outputs": [],
   "source": [
    "    print('Ross')\n",
    "    print('Rachel')\n",
    "    print('joey')\n",
    "    a = 10\n",
    "    monica = 90"
   ]
  },
  {
   "cell_type": "code",
   "execution_count": null,
   "id": "fe936887",
   "metadata": {},
   "outputs": [],
   "source": [
    "# if a > 0:\n",
    "#     clkjdc\n",
    "#     kljmsd\n",
    "#     kmcas        block of code is ending\n",
    "# out of the if block\n",
    "#     statement1"
   ]
  },
  {
   "cell_type": "code",
   "execution_count": null,
   "id": "6e7ad4c7",
   "metadata": {},
   "outputs": [],
   "source": [
    "# block of code will be executed only if that condition returns TRUE.\n",
    "if 34 > 4:\n",
    "    print('Ross')\n",
    "    print('Rachel')\n",
    "    print('joey')\n",
    "    a = 10\n",
    "    monica = 90\n"
   ]
  },
  {
   "cell_type": "code",
   "execution_count": null,
   "id": "80dab7b6",
   "metadata": {},
   "outputs": [],
   "source": [
    "# 2. if else - if's block of code will execute if the condition will be true,\n",
    "# otherwise else's block of code will be executed.\n",
    "a = -12\n",
    "if a > 0:\n",
    "    print(a,'is positive')\n",
    "else:\n",
    "    print(a, 'is negetive')"
   ]
  },
  {
   "cell_type": "code",
   "execution_count": null,
   "id": "6ce0154f",
   "metadata": {},
   "outputs": [],
   "source": [
    "var1 = int(input())\n",
    "if var1 > 0:\n",
    "    print(var1,'is positive')\n",
    "else:\n",
    "    print(var1, 'is negetive')"
   ]
  },
  {
   "cell_type": "code",
   "execution_count": null,
   "id": "86add222",
   "metadata": {},
   "outputs": [],
   "source": [
    "# 3. elif : when if's condition returns False\n",
    "# and at that situation we want to check another condition\n",
    "# then we use elif\n",
    "var1 = int(input())\n",
    "if var1 > 0:\n",
    "    print(var1,'is positive')\n",
    "elif var1 < 0:\n",
    "    print(var1, 'is negetive')\n",
    "elif :\n",
    "    print(var1, 'is Zero')"
   ]
  },
  {
   "cell_type": "code",
   "execution_count": null,
   "id": "e0a62704",
   "metadata": {},
   "outputs": [],
   "source": [
    "#  elif ladder\n",
    "if :\n",
    "elif\n",
    "elif\n",
    "elif\n",
    "elif"
   ]
  },
  {
   "cell_type": "code",
   "execution_count": null,
   "id": "e3e7c2ba",
   "metadata": {},
   "outputs": [],
   "source": [
    "# 4. Nested if - when if's condition returns True\n",
    "# and at that situation we want to check another condition\n",
    "# then we use nested if\n",
    "a = -8\n",
    "if a > 0: \n",
    "    if a > 5: \n",
    "        print(\"In between 1 to 5\")\n",
    "    else:\n",
    "        print('inner else block')\n",
    "else:\n",
    "    print(\"outer else block\")"
   ]
  },
  {
   "cell_type": "code",
   "execution_count": null,
   "id": "0f02f052",
   "metadata": {},
   "outputs": [],
   "source": [
    "a = 34\n",
    "print(a%=5)\n"
   ]
  },
  {
   "cell_type": "code",
   "execution_count": null,
   "id": "5f7c8c91",
   "metadata": {},
   "outputs": [],
   "source": [
    "60 , 80 : pass\n",
    "80 : dic\n",
    "60 : fail"
   ]
  },
  {
   "cell_type": "code",
   "execution_count": null,
   "id": "c42fcde9",
   "metadata": {},
   "outputs": [],
   "source": [
    "marks = int(input())\n",
    "if marks >= 80:\n",
    "    print('Dic')\n",
    "elif (marks<80 and marks>=60):\n",
    "    print('pass')\n",
    "else:\n",
    "    print('Fail')"
   ]
  },
  {
   "cell_type": "code",
   "execution_count": null,
   "id": "b0b74aed",
   "metadata": {},
   "outputs": [],
   "source": [
    "marks=int(input(\"enter a marks\"))\n",
    "if marks >80:\n",
    "    print(\"dic\")\n",
    "elif marks < 80 and  marks > 60:\n",
    "    print(\"pass\")\n",
    "elif marks < 60 and marks > 0:\n",
    "    print(\"fail\")\n",
    "else:\n",
    "    print(\"not valid marks\")\n"
   ]
  },
  {
   "cell_type": "code",
   "execution_count": null,
   "id": "57b9c52b",
   "metadata": {},
   "outputs": [],
   "source": [
    "# 91 - 100 : A1\n",
    "# 81 - 90 : A2\n",
    "# 71 - 80 : B1\n",
    "# 61 - 70 : B2\n",
    "# 51 - 60 : C1\n",
    "# 36 - 50 : C2\n",
    "# 35 - 0 : FAILED"
   ]
  },
  {
   "cell_type": "code",
   "execution_count": null,
   "id": "edc3f789",
   "metadata": {},
   "outputs": [],
   "source": [
    "marks = int(input())\n",
    "if marks <= 100:\n",
    "    if marks <= 90:\n",
    "        if marks <= 80:\n",
    "            if marks <= 70:\n",
    "                if marks <= 60:\n",
    "                    if marks <= 50:\n",
    "                        if marks < 36:\n",
    "                            print('Fail')\n",
    "                        else:\n",
    "                            print('C2')\n",
    "                    else:\n",
    "                        print('C1')\n",
    "                else:\n",
    "                    print('B2')\n",
    "            else:\n",
    "                print('B1')\n",
    "        else:\n",
    "            print('A2')\n",
    "    else:\n",
    "        print('A1')"
   ]
  },
  {
   "cell_type": "code",
   "execution_count": null,
   "id": "8e385a0c",
   "metadata": {},
   "outputs": [],
   "source": [
    "constraint : 1 to 10\n",
    "output:\n",
    "True - prime number\n",
    "False - not prime number"
   ]
  },
  {
   "cell_type": "code",
   "execution_count": null,
   "id": "77799402",
   "metadata": {},
   "outputs": [],
   "source": [
    "ONLY divisable by itself and one\n"
   ]
  },
  {
   "cell_type": "code",
   "execution_count": null,
   "id": "cdd67c61",
   "metadata": {},
   "outputs": [],
   "source": [
    "number = int(input())\n",
    "if number % 2 == 0:\n",
    "    if number == 2:\n",
    "        print('Prime')\n",
    "    else:\n",
    "        print('Not Prime')\n",
    "elif number % 3 == 0:\n",
    "    if number == 3:\n",
    "        print('Prime')\n",
    "    else:\n",
    "        print('Not Prime')\n",
    "else:\n",
    "    print('Prime')\n",
    "# elif number == 1:\n",
    "#     print('')\n"
   ]
  },
  {
   "cell_type": "code",
   "execution_count": null,
   "id": "c721ef1c",
   "metadata": {},
   "outputs": [],
   "source": [
    "loops\n",
    "\n",
    "same block of code we can use repeatatively"
   ]
  },
  {
   "cell_type": "code",
   "execution_count": null,
   "id": "6bfd2c6e",
   "metadata": {},
   "outputs": [],
   "source": [
    "number = int(input())\n",
    "if number%2 != 0:\n",
    "    if number%3 != 0:\n",
    "        if number%5 != 0:\n",
    "            print('Prime')\n",
    "        else:\n",
    "            print('Not Prime')\n",
    "    else:\n",
    "        print('Not Prime')\n",
    "else:\n",
    "    print('Not Prime')"
   ]
  },
  {
   "cell_type": "code",
   "execution_count": null,
   "id": "2ff3e705",
   "metadata": {},
   "outputs": [],
   "source": [
    "# Loops - same block of code we can use repeatatively\n",
    "# for while\n",
    "\n",
    "# 1. for\n",
    "# Syntax:\n",
    "for var_name in iterable:\n",
    "    code(suite)\n",
    "    \n",
    "# Iterable - we can iterate over this\n",
    "# i.e. string, list, set, dict, tuple\n",
    "# one full execution - One Iteration\n",
    "1,2,3,4,5\n",
    "'89'"
   ]
  },
  {
   "cell_type": "code",
   "execution_count": null,
   "id": "edd47dc7",
   "metadata": {},
   "outputs": [],
   "source": [
    "for utah in 'Ross Geller': # i = ' '\n",
    "#     print('Apple')\n",
    "    print(utah,end='')\n"
   ]
  },
  {
   "cell_type": "code",
   "execution_count": null,
   "id": "cf9c685b",
   "metadata": {},
   "outputs": [],
   "source": [
    "list1 = [1,2,'point',[1,2,3],4,4] #items, elements\n",
    "for r in list1: # r = '\n",
    "    print(r)"
   ]
  },
  {
   "cell_type": "code",
   "execution_count": null,
   "id": "82c4f7ca",
   "metadata": {},
   "outputs": [],
   "source": [
    "set1 = {1,'A',34,\"34\"} #unorderd\n",
    "for something in set1:\n",
    "    print(something)"
   ]
  },
  {
   "cell_type": "code",
   "execution_count": null,
   "id": "9a4257b5",
   "metadata": {},
   "outputs": [],
   "source": [
    "for t in (3,4,5):\n",
    "    print(t)"
   ]
  },
  {
   "cell_type": "code",
   "execution_count": null,
   "id": "1ff79364",
   "metadata": {},
   "outputs": [],
   "source": [
    "dict1 = {'A':89, 'B':56, 'C':90, 'A':90}\n",
    "for d in dict1: #d = 'A'\n",
    "    print(d)\n",
    "    "
   ]
  },
  {
   "cell_type": "code",
   "execution_count": null,
   "id": "cb74f579",
   "metadata": {},
   "outputs": [],
   "source": [
    "# *\n",
    "# **\n",
    "# ***\n",
    "# ****\n"
   ]
  },
  {
   "cell_type": "code",
   "execution_count": null,
   "id": "25885b84",
   "metadata": {},
   "outputs": [],
   "source": [
    "r:(1,2,3,4)\n",
    "c:(0,1,2,3)\n",
    "*\n",
    "**\n",
    "***\n",
    "****\n"
   ]
  },
  {
   "cell_type": "code",
   "execution_count": null,
   "id": "2db36d83",
   "metadata": {},
   "outputs": [],
   "source": [
    "range(5)"
   ]
  },
  {
   "cell_type": "code",
   "execution_count": null,
   "id": "c8f68c97",
   "metadata": {},
   "outputs": [],
   "source": [
    "for rows in range(1,5):#rows=3\n",
    "    for space in range(6-rows):\n",
    "        print(' ', end='')\n",
    "    for columns in range(rows):#columns=1\n",
    "        print('*',end='')\n",
    "    print()"
   ]
  },
  {
   "cell_type": "code",
   "execution_count": null,
   "id": "0c262105",
   "metadata": {},
   "outputs": [],
   "source": [
    "   **\n",
    "  *  *\n",
    " *    *\n",
    "*      *\n",
    " *    *\n",
    "  *  *\n",
    "   **"
   ]
  },
  {
   "cell_type": "code",
   "execution_count": null,
   "id": "061ab958",
   "metadata": {},
   "outputs": [],
   "source": [
    " * * *\n",
    "*\n",
    "*\n",
    "*\n"
   ]
  },
  {
   "cell_type": "code",
   "execution_count": null,
   "id": "a9a35207",
   "metadata": {},
   "outputs": [],
   "source": [
    "for s in range(11,-1,-3):#(11,8,5,2)\n",
    "#     print('*'*s)\n",
    "    print(s)"
   ]
  },
  {
   "cell_type": "code",
   "execution_count": null,
   "id": "8de8578d",
   "metadata": {},
   "outputs": [],
   "source": [
    "# range()\n",
    "# arguments at most 3, at least 1\n",
    "# Syntax:\n",
    "# range(start,stop,step)\n",
    "# start & step opetional\n",
    "# Default values: start = 0, step = 1\n",
    "# stop is exclusive\n",
    "# range(2,6)"
   ]
  },
  {
   "cell_type": "code",
   "execution_count": null,
   "id": "25c574a5",
   "metadata": {},
   "outputs": [],
   "source": [
    "for i in range(-1,-10,-3):#-3,-1,1,3,5\n",
    "    print(i)"
   ]
  },
  {
   "cell_type": "code",
   "execution_count": null,
   "id": "1548dfd3",
   "metadata": {},
   "outputs": [],
   "source": [
    "print('polo',1,2,3,sep='|')\n"
   ]
  },
  {
   "cell_type": "code",
   "execution_count": null,
   "id": "8ea0b144",
   "metadata": {},
   "outputs": [],
   "source": [
    "     *\n",
    "    **\n",
    "   ***\n",
    "  ****\n",
    " *****"
   ]
  },
  {
   "cell_type": "code",
   "execution_count": null,
   "id": "0d50bbd8",
   "metadata": {},
   "outputs": [],
   "source": [
    "for i in range(1,6):#i = 2\n",
    "    print(' '*(6-1),'*'*)\n",
    "#     print(2,3,sep='')"
   ]
  },
  {
   "cell_type": "code",
   "execution_count": null,
   "id": "56bb8d3e",
   "metadata": {},
   "outputs": [],
   "source": [
    "     **\n",
    "    ****\n",
    "   ******\n",
    "  ********\n",
    " **********\n",
    "  ********\n",
    "   ******\n",
    "    ****\n",
    "     **"
   ]
  },
  {
   "cell_type": "code",
   "execution_count": null,
   "id": "a5841643",
   "metadata": {},
   "outputs": [],
   "source": [
    "# While\n",
    "# Syntax:\n",
    "var define\n",
    "while condition:\n",
    "    code\n",
    "    increament/decrement"
   ]
  },
  {
   "cell_type": "code",
   "execution_count": null,
   "id": "9a08022b",
   "metadata": {},
   "outputs": [],
   "source": [
    "a = 15\n",
    "while a > 10:\n",
    "    print(a)\n",
    "    a -= 1"
   ]
  },
  {
   "cell_type": "code",
   "execution_count": null,
   "id": "b16e5b0c",
   "metadata": {},
   "outputs": [],
   "source": [
    "# Nested\n",
    "# i(0,1,2,3,4)\n",
    "# j(0,1,2,3,4)\n",
    "\n",
    "for i in range(5): #i=2, Outer loop\n",
    "    for j in range(5): #j=4,Inner loop\n",
    "        for k in range(6):\n",
    "            print(i,j,k)\n",
    "    print('I-loop block of code')\n",
    "    "
   ]
  },
  {
   "cell_type": "code",
   "execution_count": null,
   "id": "ef155ac2",
   "metadata": {},
   "outputs": [],
   "source": [
    "ABC\n",
    "ACB\n",
    "CAB\n",
    "CBA\n",
    "BAC\n",
    "BCA"
   ]
  },
  {
   "cell_type": "code",
   "execution_count": null,
   "id": "535e73d9",
   "metadata": {},
   "outputs": [],
   "source": [
    "3 5 4 6\n",
    "3 5 6 4 \n"
   ]
  },
  {
   "cell_type": "code",
   "execution_count": null,
   "id": "0b98bcf8",
   "metadata": {},
   "outputs": [],
   "source": [
    "for i in '1243':\n",
    "    \n",
    "1\n",
    "1\n",
    "1\n",
    "1\n",
    "1\n",
    "1\n"
   ]
  },
  {
   "cell_type": "code",
   "execution_count": null,
   "id": "ef69eb78",
   "metadata": {},
   "outputs": [],
   "source": [
    "# Control Statements\n",
    "# 1. pass - It does nothing, it prevents the error\n",
    "# 2. break - It will terminate the most inner loop right away\n",
    "# 3. continue - It will stops the current iteration and\n",
    "# continue from the next one."
   ]
  },
  {
   "cell_type": "code",
   "execution_count": null,
   "id": "8abbe447",
   "metadata": {},
   "outputs": [],
   "source": [
    "# 1. pass\n",
    "for i in range(1,6):\n",
    "    pass"
   ]
  },
  {
   "cell_type": "code",
   "execution_count": null,
   "id": "ce2dce01",
   "metadata": {},
   "outputs": [],
   "source": [
    "# 2. break\n",
    "for i in 'point': #i = 'i'\n",
    "    for j in 'PYTHON': #j = 'P'\n",
    "        for k in '123': #k = '1'\n",
    "            print(i, j, k)\n",
    "            print('first line')\n",
    "            break\n",
    "            print('last line')\n",
    "            \n",
    "            \n",
    "        print(\"j's area\")\n",
    "        break"
   ]
  },
  {
   "cell_type": "code",
   "execution_count": null,
   "id": "02bd1d88",
   "metadata": {},
   "outputs": [],
   "source": [
    "# 3. continue\n",
    "for i in range(1,6):\n",
    "    if i == 3:\n",
    "        continue\n",
    "    print(i)    "
   ]
  },
  {
   "cell_type": "code",
   "execution_count": null,
   "id": "8617c5e7",
   "metadata": {},
   "outputs": [],
   "source": [
    "# String - Indexed, Ordered, Immutable Datatype\n",
    "\"A\" , 'Vivek', \"This is Python and we don't know logic\",\n",
    "\"Vivek\",\n",
    "a = \"\"\"he said, \"Learn something new\" and\n",
    "something about computer science.\"\"\"\n",
    "print(a)"
   ]
  },
  {
   "cell_type": "code",
   "execution_count": null,
   "id": "ceafe927",
   "metadata": {},
   "outputs": [],
   "source": [
    "var1 = 'he said, \"Learn something new\".'\n",
    "# print(var1)"
   ]
  },
  {
   "cell_type": "code",
   "execution_count": null,
   "id": "60202fc1",
   "metadata": {},
   "outputs": [],
   "source": [
    "# Indexing\n",
    "var1 = 'Rachel'\n",
    "\n",
    "#       012345\n",
    "# Negetive Indexing\n",
    "# right to left , starts from -1\n",
    "\n",
    "# To access\n",
    "var1[1]\n",
    "# var1[3] = 'H' #RETURNS ERROR\n"
   ]
  },
  {
   "cell_type": "code",
   "execution_count": null,
   "id": "e604bca8",
   "metadata": {},
   "outputs": [],
   "source": [
    "# String Slicing\n",
    "str3 = 'Harry Styles'\n",
    "# [start:stop:step]\n",
    "str3[-7:-1] #reverses the string\n",
    "# full string if start and stop, step are not given str1[::]"
   ]
  },
  {
   "cell_type": "code",
   "execution_count": null,
   "id": "cf275bb7",
   "metadata": {},
   "outputs": [],
   "source": [
    "str2 = 'Hermio\\ne Granger.!@#$%%^&**()_+=/'\n",
    "# for i in str2:\n",
    "#     print(i)\n",
    "print(str2)\n"
   ]
  },
  {
   "cell_type": "code",
   "execution_count": null,
   "id": "1e66c3f7",
   "metadata": {},
   "outputs": [],
   "source": [
    "# Escape Characters\n",
    "str3 = \"he said, \\\\ A \\\"this is Python.\\\\ A \\\"\"\n",
    "# print(str3)\n",
    "# \\n = newline\n",
    "# \\t = tab\n",
    "# \\b = backsPace\n",
    "str4 = \"he said \\\"sdfddf\\\".end of the str\"\n",
    "# len(d)\n",
    "# print(str4)\n",
    "print(str4)"
   ]
  },
  {
   "cell_type": "code",
   "execution_count": null,
   "id": "4742d9fe",
   "metadata": {},
   "outputs": [],
   "source": [
    "str4 = \"he said\\the str\"\n",
    "str4.expandtabs(2) #"
   ]
  },
  {
   "cell_type": "code",
   "execution_count": null,
   "id": "5447505f",
   "metadata": {},
   "outputs": [],
   "source": [
    "# raw strings\n",
    "# rstring\n",
    "str3 = r\"he said,\\n \\\\ A \\\"this is Python.\\\\ A \\\"\"\n",
    "print(str3)"
   ]
  },
  {
   "cell_type": "code",
   "execution_count": null,
   "id": "373d4ed9",
   "metadata": {},
   "outputs": [],
   "source": [
    "str1 = 'HU'\n",
    "str2 = \"LU\"\n",
    "# '90' + 'op'\n",
    "# 'point'*10\n",
    "\n",
    "# var1 = 'haa'\"skdjh\"\n",
    "# print(var1)"
   ]
  },
  {
   "cell_type": "code",
   "execution_count": null,
   "id": "ed16c256",
   "metadata": {},
   "outputs": [],
   "source": [
    "# String Methods\n",
    "\n",
    "str1 = 'polar Panel'\n",
    "str1.capitalize() #it will convert first char of STRING into upper,\n",
    "#rest of them will be lowercased\n"
   ]
  },
  {
   "cell_type": "code",
   "execution_count": null,
   "id": "2154ff7a",
   "metadata": {},
   "outputs": [],
   "source": [
    "str2 = 'thIS uis, an Apple a and b'\n",
    "str2.title()\n"
   ]
  },
  {
   "cell_type": "code",
   "execution_count": null,
   "id": "f6662545",
   "metadata": {},
   "outputs": [],
   "source": [
    "str2 = 'APPL vEW'\n",
    "\n",
    "str2.casefold() #It will convert(forcefully) all the string characters into lowercase\n",
    "# str2.lower() #It will convert all the string characters into lowercase"
   ]
  },
  {
   "cell_type": "code",
   "execution_count": null,
   "id": "7eaa05cc",
   "metadata": {},
   "outputs": [],
   "source": [
    "str2 = 'UIUX'\n",
    "str2.endswith('UX') #where the string ends with given substring"
   ]
  },
  {
   "cell_type": "code",
   "execution_count": null,
   "id": "28be718e",
   "metadata": {},
   "outputs": [],
   "source": [
    "### Everythying in python is an Object\n",
    "str2"
   ]
  },
  {
   "cell_type": "code",
   "execution_count": null,
   "id": "5a987b58",
   "metadata": {},
   "outputs": [],
   "source": [
    "asd = 'polar'\n",
    "asd.upper() #it will convert all characters of string into uppercase"
   ]
  },
  {
   "cell_type": "code",
   "execution_count": null,
   "id": "c7211b4a",
   "metadata": {},
   "outputs": [],
   "source": [
    "d1 = '1Byte Bit Bits'\n",
    "d1.count('Bit') #counts the occurence of the given substring"
   ]
  },
  {
   "cell_type": "code",
   "execution_count": null,
   "id": "6e99e175",
   "metadata": {},
   "outputs": [],
   "source": [
    "d1 = 'tiger\\tanimal'\n",
    "d1.expandtabs(5) #customize the tab size \n",
    "print(d1)"
   ]
  },
  {
   "cell_type": "code",
   "execution_count": null,
   "id": "b2134634",
   "metadata": {},
   "outputs": [],
   "source": [
    "### PEP 8 -(style guide) Python Enhancement Proposals\n",
    "nihar_patel = 90\n",
    "# camel case\n",
    "studentSomeNihar = 9\n",
    "\n",
    "# snake case\n",
    "very_very_long_something_variable_name = 67\n",
    "\n",
    "# pascal case\n",
    "class ComputerMouseKey:\n"
   ]
  },
  {
   "cell_type": "code",
   "execution_count": null,
   "id": "37c7ff7b",
   "metadata": {},
   "outputs": [],
   "source": [
    "str1 = 'kifestte festival'\n",
    "str1.find('et') #returns index value of the very FIRST occurence (left to right)\n",
    "# find returns -1 when substring is not found\n",
    "# str1.index('ft')\n",
    "# index raises an error when substring is not found\n",
    "str1.rfind('find')\n",
    "# str1.rindex('find')"
   ]
  },
  {
   "cell_type": "code",
   "execution_count": null,
   "id": "4d648096",
   "metadata": {},
   "outputs": [],
   "source": [
    "str1 = 'echo echo echo echo'\n",
    "str1.find('echo',3,15)"
   ]
  },
  {
   "cell_type": "code",
   "execution_count": null,
   "id": "577434ff",
   "metadata": {},
   "outputs": [],
   "source": [
    "# String Formatting\n",
    "\n",
    "str2 = 'There are {} Lions, and {} goat, and {} bears'\n",
    "# {} - placeholders\n",
    "var1 = 90\n",
    "str2.format(var1,67,67)\n",
    "# print(str2)"
   ]
  },
  {
   "cell_type": "code",
   "execution_count": null,
   "id": "f56b7a05",
   "metadata": {},
   "outputs": [],
   "source": [
    "# fstrings\n",
    "name = 'Ravi'\n",
    "f'Hello {90}!!'"
   ]
  },
  {
   "cell_type": "code",
   "execution_count": null,
   "id": "c7fe1528",
   "metadata": {},
   "outputs": [],
   "source": [
    "str1 = 'The Silent Patient'\n",
    "# str1.rindex('t',9,17)\n",
    "# find - left to right\n",
    "# index - left to right\n",
    "# rfind rindex - right to left\n",
    "\n",
    "# Syntax:\n",
    "# replace(the substring needs to be replaced, the replacement string)\n",
    "# str1.replace(repl1,'good')"
   ]
  },
  {
   "cell_type": "code",
   "execution_count": null,
   "id": "4c707719",
   "metadata": {},
   "outputs": [],
   "source": [
    "# replace(the substring needs to be replaced, the replacement string)\n",
    "# str1.replace(repl1,'good')"
   ]
  },
  {
   "cell_type": "code",
   "execution_count": null,
   "id": "b18c801c",
   "metadata": {},
   "outputs": [],
   "source": [
    "str1 = 'polo7888'\n",
    "# str1.isalnum() #every character should be alphanumeric\n",
    "# str1.isalpha() #every character should be alphabets\n",
    "#ascii \n",
    "# str1.isascii()\n",
    "str1.isdecimal()"
   ]
  },
  {
   "cell_type": "code",
   "execution_count": null,
   "id": "b2142fe6",
   "metadata": {},
   "outputs": [],
   "source": [
    "str1 = 'MOUSE'\n",
    "# str1.isdigit()\n",
    "# str1.isnumeric()\n",
    "# str1.isidentifier() #checks whether str is vailid iden. or not\n",
    "# str1.islower() #every character should be lower case\n",
    "# str1.isprintable() #every character should be printable\n",
    "# str1.isspace() #every character should be space\n",
    "# str1.istitle() #the string is title or not\n",
    "# str1.isupper() #all characters should be uppercase"
   ]
  },
  {
   "cell_type": "code",
   "execution_count": null,
   "id": "da8a8b5f",
   "metadata": {},
   "outputs": [],
   "source": [
    "str2 = '-'\n",
    "# Syntax:\n",
    "# seperator.join(iterable)\n",
    "str2.join('HIGHEST')\n",
    "list1 = ['j','e','f','f']\n",
    "''.join(list1)"
   ]
  },
  {
   "cell_type": "code",
   "execution_count": null,
   "id": "24d4412f",
   "metadata": {},
   "outputs": [],
   "source": [
    "str2 = 'c'\n",
    "# str2.center(20,'-')\n",
    "# str2.ljust(20,'L')\n",
    "# str2.rjust(20,'J')\n",
    "s = str2.zfill(4)"
   ]
  },
  {
   "cell_type": "code",
   "execution_count": null,
   "id": "9fb3e6bc",
   "metadata": {},
   "outputs": [],
   "source": [
    "for i in range(7):\n",
    "    if i == 4:\n",
    "        \n",
    "        print('Nihar')\n",
    "    else:\n",
    "        print('Python')"
   ]
  },
  {
   "cell_type": "code",
   "execution_count": null,
   "id": "a9749fa2",
   "metadata": {},
   "outputs": [],
   "source": [
    "-----c-----\n",
    "---c-b-c---\n",
    "-c-b-a-b-c-\n",
    "---c-b-c---\n",
    "-----c-----"
   ]
  },
  {
   "cell_type": "code",
   "execution_count": null,
   "id": "0a3282cf",
   "metadata": {},
   "outputs": [],
   "source": [
    "11"
   ]
  },
  {
   "cell_type": "code",
   "execution_count": null,
   "id": "b1f2eb5d",
   "metadata": {},
   "outputs": [],
   "source": [
    "     *\n",
    "    * *\n",
    "   * A *\n",
    "  * B C *\n",
    " * D E F *\n",
    "* G H I J *\n",
    " * K L Z *\n",
    "  * Z A *\n",
    "   * P *\n",
    "    * *\n",
    "     *"
   ]
  },
  {
   "cell_type": "code",
   "execution_count": null,
   "id": "acc6ae67",
   "metadata": {},
   "outputs": [],
   "source": [
    "\n"
   ]
  },
  {
   "cell_type": "code",
   "execution_count": null,
   "id": "06790f0f",
   "metadata": {},
   "outputs": [],
   "source": [
    " *\n",
    "* *\n",
    " *"
   ]
  },
  {
   "cell_type": "code",
   "execution_count": null,
   "id": "d8e6fe20",
   "metadata": {},
   "outputs": [],
   "source": [
    "row_input = 10(diamond's rows)"
   ]
  },
  {
   "cell_type": "code",
   "execution_count": null,
   "id": "fd2adf1c",
   "metadata": {},
   "outputs": [],
   "source": [
    "alphabets = 'ABCDEFGHIJKLMNOPQRSTUVWXYZ'"
   ]
  },
  {
   "cell_type": "code",
   "execution_count": null,
   "id": "caa44137",
   "metadata": {},
   "outputs": [],
   "source": [
    "str1 = '     l     Alpacas       '\n",
    "str1.strip() # from start and end of the string it will remove whitespaces\n",
    "str1.lstrip()\n",
    "str1.rstrip()"
   ]
  },
  {
   "cell_type": "code",
   "execution_count": null,
   "id": "7c4e02dd",
   "metadata": {},
   "outputs": [],
   "source": [
    "str1 = 'The Golden FiInCh'\n",
    "str1.swapcase() #it will swap the cases(upper to lower, lower to upper)"
   ]
  },
  {
   "cell_type": "code",
   "execution_count": null,
   "id": "4d6327ea",
   "metadata": {},
   "outputs": [],
   "source": [
    "str1 = 'Joker and King'\n",
    "str1.partition('King') #exact 3 parts\n",
    "s = str1.rpartition(' ')"
   ]
  },
  {
   "cell_type": "code",
   "execution_count": null,
   "id": "0a401084",
   "metadata": {},
   "outputs": [],
   "source": [
    "str1 = 'Joker and King and queen and playing cards and'\n",
    "# str1.split('and',2)\n",
    "# (seperator, maxsplit)\n",
    "\n",
    "str1.rsplit('and', 2)"
   ]
  },
  {
   "cell_type": "code",
   "execution_count": null,
   "id": "701b02c1",
   "metadata": {},
   "outputs": [],
   "source": [
    "str1 = 'Joker and King\\n and queen and\\n playing cards and'\n",
    "str2 = \"\"\"Joker and King\n",
    "and queen and\n",
    "playing cards and\"\"\"\n",
    "str1.splitlines()"
   ]
  },
  {
   "cell_type": "code",
   "execution_count": null,
   "id": "a47e69f8",
   "metadata": {},
   "outputs": [],
   "source": [
    "str1 = 'goal'\n",
    "str1.startswith('gol')\n",
    "\n",
    "str1."
   ]
  },
  {
   "cell_type": "code",
   "execution_count": null,
   "id": "0865fad3",
   "metadata": {},
   "outputs": [],
   "source": [
    "num_of_lines = int(input()) #7\n",
    "alp = 'ABCDEFGHIJKLMNOPQRSTUVWXYZ'\n",
    "idx = 0\n",
    "for single_line in range(num_of_lines): #(0,1,2,3,4,5,6)\n",
    "    str1 = ''\n",
    "    if single_line <= num_of_lines // 2:\n",
    "        for char in range(single_line+1): #(0,1,2,3,4,5)\n",
    "            if char == 0 or char == single_line :\n",
    "                str1 += '* '\n",
    "            else:\n",
    "                str1 += f'{alp[idx]} '\n",
    "                if idx == 25:\n",
    "                    idx = 0\n",
    "                else:\n",
    "                    idx += 1\n",
    "        print((str1.strip()).center(num_of_lines+1))\n",
    "    else:\n",
    "        start = num_of_lines - single_line\n",
    "        for char in range(start,0,-1): #(0,1,2,3,4,5)\n",
    "            if char == 1 or char == start :\n",
    "                str1 += '* '\n",
    "            else:\n",
    "                str1 += f'{alp[idx]} '\n",
    "                if idx == 25:\n",
    "                    idx = 0\n",
    "                else:\n",
    "                    idx += 1\n",
    "        print((str1.strip()).center(num_of_lines+1))\n"
   ]
  },
  {
   "cell_type": "code",
   "execution_count": null,
   "id": "e5faf656",
   "metadata": {},
   "outputs": [],
   "source": [
    "str1 = '123'\n",
    "str1.center(10)"
   ]
  },
  {
   "cell_type": "code",
   "execution_count": null,
   "id": "17ca7586",
   "metadata": {},
   "outputs": [],
   "source": [
    "str1 = input()\n",
    "str2 = input()\n",
    "middle = len(str1)//2\n",
    "str1[:middle] + str2 + str1[middle:]"
   ]
  },
  {
   "cell_type": "code",
   "execution_count": null,
   "id": "5728e4f8",
   "metadata": {},
   "outputs": [],
   "source": [
    "occurence of subs in string\n",
    "occuerence of WORD in a satence\n",
    "count the no of characters in a string"
   ]
  },
  {
   "cell_type": "code",
   "execution_count": null,
   "id": "556c32cb",
   "metadata": {},
   "outputs": [],
   "source": [
    "str1 = input()\n",
    "substr = input()\n",
    "str1.count(substr)"
   ]
  },
  {
   "cell_type": "code",
   "execution_count": null,
   "id": "abb0898d",
   "metadata": {},
   "outputs": [],
   "source": [
    "str1 = 'this is python lang and it is easiest lang'\n",
    "l1 = str1.split()\n",
    "for word in l1:\n",
    "    print(word,'-',str1.count(word))\n",
    "\n"
   ]
  },
  {
   "cell_type": "code",
   "execution_count": null,
   "id": "1ae74049",
   "metadata": {},
   "outputs": [],
   "source": [
    "str1 = 'joker and ace and king'\n",
    "print(str1.find(str1[-1]) + 1)\n",
    "len(str1)"
   ]
  },
  {
   "cell_type": "code",
   "execution_count": null,
   "id": "5bbc2afb",
   "metadata": {},
   "outputs": [],
   "source": [
    "str1 = input()\n",
    "if len(str1) < 2:\n",
    "    print('Empty string')\n",
    "else:\n",
    "    print(str1[:2] + str1[-2:])\n"
   ]
  }
 ],
 "metadata": {
  "kernelspec": {
   "display_name": "Python 3 (ipykernel)",
   "language": "python",
   "name": "python3"
  },
  "language_info": {
   "codemirror_mode": {
    "name": "ipython",
    "version": 3
   },
   "file_extension": ".py",
   "mimetype": "text/x-python",
   "name": "python",
   "nbconvert_exporter": "python",
   "pygments_lexer": "ipython3",
   "version": "3.9.7"
  }
 },
 "nbformat": 4,
 "nbformat_minor": 5
}
